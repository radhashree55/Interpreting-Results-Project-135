{
  "nbformat": 4,
  "nbformat_minor": 0,
  "metadata": {
    "colab": {
      "name": "PRO-135 Interpreting Results",
      "provenance": [],
      "collapsed_sections": []
    },
    "kernelspec": {
      "name": "python3",
      "display_name": "Python 3"
    },
    "language_info": {
      "name": "python"
    }
  },
  "cells": [
    {
      "cell_type": "code",
      "execution_count": 1,
      "metadata": {
        "colab": {
          "resources": {
            "http://localhost:8080/nbextensions/google.colab/files.js": {
              "data": "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",
              "ok": true,
              "headers": [
                [
                  "content-type",
                  "application/javascript"
                ]
              ],
              "status": 200,
              "status_text": ""
            }
          },
          "base_uri": "https://localhost:8080/",
          "height": 73
        },
        "id": "ZJ5qwHivUwEp",
        "outputId": "cf1007c8-cf59-4ecd-86c0-d44291aa5dc7"
      },
      "outputs": [
        {
          "output_type": "display_data",
          "data": {
            "text/plain": [
              "<IPython.core.display.HTML object>"
            ],
            "text/html": [
              "\n",
              "     <input type=\"file\" id=\"files-149074f6-b333-4682-9df2-035ad9ebc347\" name=\"files[]\" multiple disabled\n",
              "        style=\"border:none\" />\n",
              "     <output id=\"result-149074f6-b333-4682-9df2-035ad9ebc347\">\n",
              "      Upload widget is only available when the cell has been executed in the\n",
              "      current browser session. Please rerun this cell to enable.\n",
              "      </output>\n",
              "      <script src=\"/nbextensions/google.colab/files.js\"></script> "
            ]
          },
          "metadata": {}
        },
        {
          "output_type": "stream",
          "name": "stdout",
          "text": [
            "Saving starsWithGravity.csv to starsWithGravity.csv\n"
          ]
        }
      ],
      "source": [
        "from google.colab import files\n",
        "data = files.upload()"
      ]
    },
    {
      "cell_type": "code",
      "source": [
        "import pandas as pd\n",
        "import matplotlib.pyplot as plt\n",
        "df = pd.read_csv('starsWithGravity.csv')\n",
        "df.head()"
      ],
      "metadata": {
        "colab": {
          "base_uri": "https://localhost:8080/",
          "height": 206
        },
        "id": "c9dRFuxZYeON",
        "outputId": "3fb38c4c-c9fc-4330-8e73-cc999907e421"
      },
      "execution_count": 2,
      "outputs": [
        {
          "output_type": "execute_result",
          "data": {
            "text/plain": [
              "   Unnamed: 0       Star_name     Distance  Mass  Radius     Gravity\n",
              "0           0             Sun  0.000015813   1.0    1.00  274.269161\n",
              "1           1          Sirius          8.6   2.1    1.71  196.971800\n",
              "2           2         Canopus          310  15.0   71.00    0.816115\n",
              "3           3  Alpha Centauri          4.4   1.1    1.20  209.511165\n",
              "4           4        Arcturus           37   1.1   26.00    0.446296"
            ],
            "text/html": [
              "\n",
              "  <div id=\"df-baf4a041-3981-4fe6-9208-a73fd582f473\">\n",
              "    <div class=\"colab-df-container\">\n",
              "      <div>\n",
              "<style scoped>\n",
              "    .dataframe tbody tr th:only-of-type {\n",
              "        vertical-align: middle;\n",
              "    }\n",
              "\n",
              "    .dataframe tbody tr th {\n",
              "        vertical-align: top;\n",
              "    }\n",
              "\n",
              "    .dataframe thead th {\n",
              "        text-align: right;\n",
              "    }\n",
              "</style>\n",
              "<table border=\"1\" class=\"dataframe\">\n",
              "  <thead>\n",
              "    <tr style=\"text-align: right;\">\n",
              "      <th></th>\n",
              "      <th>Unnamed: 0</th>\n",
              "      <th>Star_name</th>\n",
              "      <th>Distance</th>\n",
              "      <th>Mass</th>\n",
              "      <th>Radius</th>\n",
              "      <th>Gravity</th>\n",
              "    </tr>\n",
              "  </thead>\n",
              "  <tbody>\n",
              "    <tr>\n",
              "      <th>0</th>\n",
              "      <td>0</td>\n",
              "      <td>Sun</td>\n",
              "      <td>0.000015813</td>\n",
              "      <td>1.0</td>\n",
              "      <td>1.00</td>\n",
              "      <td>274.269161</td>\n",
              "    </tr>\n",
              "    <tr>\n",
              "      <th>1</th>\n",
              "      <td>1</td>\n",
              "      <td>Sirius</td>\n",
              "      <td>8.6</td>\n",
              "      <td>2.1</td>\n",
              "      <td>1.71</td>\n",
              "      <td>196.971800</td>\n",
              "    </tr>\n",
              "    <tr>\n",
              "      <th>2</th>\n",
              "      <td>2</td>\n",
              "      <td>Canopus</td>\n",
              "      <td>310</td>\n",
              "      <td>15.0</td>\n",
              "      <td>71.00</td>\n",
              "      <td>0.816115</td>\n",
              "    </tr>\n",
              "    <tr>\n",
              "      <th>3</th>\n",
              "      <td>3</td>\n",
              "      <td>Alpha Centauri</td>\n",
              "      <td>4.4</td>\n",
              "      <td>1.1</td>\n",
              "      <td>1.20</td>\n",
              "      <td>209.511165</td>\n",
              "    </tr>\n",
              "    <tr>\n",
              "      <th>4</th>\n",
              "      <td>4</td>\n",
              "      <td>Arcturus</td>\n",
              "      <td>37</td>\n",
              "      <td>1.1</td>\n",
              "      <td>26.00</td>\n",
              "      <td>0.446296</td>\n",
              "    </tr>\n",
              "  </tbody>\n",
              "</table>\n",
              "</div>\n",
              "      <button class=\"colab-df-convert\" onclick=\"convertToInteractive('df-baf4a041-3981-4fe6-9208-a73fd582f473')\"\n",
              "              title=\"Convert this dataframe to an interactive table.\"\n",
              "              style=\"display:none;\">\n",
              "        \n",
              "  <svg xmlns=\"http://www.w3.org/2000/svg\" height=\"24px\"viewBox=\"0 0 24 24\"\n",
              "       width=\"24px\">\n",
              "    <path d=\"M0 0h24v24H0V0z\" fill=\"none\"/>\n",
              "    <path d=\"M18.56 5.44l.94 2.06.94-2.06 2.06-.94-2.06-.94-.94-2.06-.94 2.06-2.06.94zm-11 1L8.5 8.5l.94-2.06 2.06-.94-2.06-.94L8.5 2.5l-.94 2.06-2.06.94zm10 10l.94 2.06.94-2.06 2.06-.94-2.06-.94-.94-2.06-.94 2.06-2.06.94z\"/><path d=\"M17.41 7.96l-1.37-1.37c-.4-.4-.92-.59-1.43-.59-.52 0-1.04.2-1.43.59L10.3 9.45l-7.72 7.72c-.78.78-.78 2.05 0 2.83L4 21.41c.39.39.9.59 1.41.59.51 0 1.02-.2 1.41-.59l7.78-7.78 2.81-2.81c.8-.78.8-2.07 0-2.86zM5.41 20L4 18.59l7.72-7.72 1.47 1.35L5.41 20z\"/>\n",
              "  </svg>\n",
              "      </button>\n",
              "      \n",
              "  <style>\n",
              "    .colab-df-container {\n",
              "      display:flex;\n",
              "      flex-wrap:wrap;\n",
              "      gap: 12px;\n",
              "    }\n",
              "\n",
              "    .colab-df-convert {\n",
              "      background-color: #E8F0FE;\n",
              "      border: none;\n",
              "      border-radius: 50%;\n",
              "      cursor: pointer;\n",
              "      display: none;\n",
              "      fill: #1967D2;\n",
              "      height: 32px;\n",
              "      padding: 0 0 0 0;\n",
              "      width: 32px;\n",
              "    }\n",
              "\n",
              "    .colab-df-convert:hover {\n",
              "      background-color: #E2EBFA;\n",
              "      box-shadow: 0px 1px 2px rgba(60, 64, 67, 0.3), 0px 1px 3px 1px rgba(60, 64, 67, 0.15);\n",
              "      fill: #174EA6;\n",
              "    }\n",
              "\n",
              "    [theme=dark] .colab-df-convert {\n",
              "      background-color: #3B4455;\n",
              "      fill: #D2E3FC;\n",
              "    }\n",
              "\n",
              "    [theme=dark] .colab-df-convert:hover {\n",
              "      background-color: #434B5C;\n",
              "      box-shadow: 0px 1px 3px 1px rgba(0, 0, 0, 0.15);\n",
              "      filter: drop-shadow(0px 1px 2px rgba(0, 0, 0, 0.3));\n",
              "      fill: #FFFFFF;\n",
              "    }\n",
              "  </style>\n",
              "\n",
              "      <script>\n",
              "        const buttonEl =\n",
              "          document.querySelector('#df-baf4a041-3981-4fe6-9208-a73fd582f473 button.colab-df-convert');\n",
              "        buttonEl.style.display =\n",
              "          google.colab.kernel.accessAllowed ? 'block' : 'none';\n",
              "\n",
              "        async function convertToInteractive(key) {\n",
              "          const element = document.querySelector('#df-baf4a041-3981-4fe6-9208-a73fd582f473');\n",
              "          const dataTable =\n",
              "            await google.colab.kernel.invokeFunction('convertToInteractive',\n",
              "                                                     [key], {});\n",
              "          if (!dataTable) return;\n",
              "\n",
              "          const docLinkHtml = 'Like what you see? Visit the ' +\n",
              "            '<a target=\"_blank\" href=https://colab.research.google.com/notebooks/data_table.ipynb>data table notebook</a>'\n",
              "            + ' to learn more about interactive tables.';\n",
              "          element.innerHTML = '';\n",
              "          dataTable['output_type'] = 'display_data';\n",
              "          await google.colab.output.renderOutput(dataTable, element);\n",
              "          const docLink = document.createElement('div');\n",
              "          docLink.innerHTML = docLinkHtml;\n",
              "          element.appendChild(docLink);\n",
              "        }\n",
              "      </script>\n",
              "    </div>\n",
              "  </div>\n",
              "  "
            ]
          },
          "metadata": {},
          "execution_count": 2
        }
      ]
    },
    {
      "cell_type": "code",
      "source": [
        "starName= df[\"Star_name\"].to_list()\n",
        "mass= df[\"Mass\"].to_list()\n",
        "radius= df[\"Radius\"].to_list()\n",
        "distance= df[\"Distance\"].to_list()\n",
        "gravity= df[\"Gravity\"].to_list()"
      ],
      "metadata": {
        "id": "FLTeX6cWYkYI"
      },
      "execution_count": 3,
      "outputs": []
    },
    {
      "cell_type": "code",
      "source": [
        "import plotly.express as px\n",
        "\n",
        "fig=px.bar(x= starName, y= mass)\n",
        "fig.show()"
      ],
      "metadata": {
        "colab": {
          "base_uri": "https://localhost:8080/",
          "height": 542
        },
        "id": "TRRev-DZZSkJ",
        "outputId": "2cb769cd-fca9-4b34-9ebe-636e966be465"
      },
      "execution_count": 6,
      "outputs": [
        {
          "output_type": "display_data",
          "data": {
            "text/html": [
              "<html>\n",
              "<head><meta charset=\"utf-8\" /></head>\n",
              "<body>\n",
              "    <div>            <script src=\"https://cdnjs.cloudflare.com/ajax/libs/mathjax/2.7.5/MathJax.js?config=TeX-AMS-MML_SVG\"></script><script type=\"text/javascript\">if (window.MathJax) {MathJax.Hub.Config({SVG: {font: \"STIX-Web\"}});}</script>                <script type=\"text/javascript\">window.PlotlyConfig = {MathJaxConfig: 'local'};</script>\n",
              "        <script src=\"https://cdn.plot.ly/plotly-2.8.3.min.js\"></script>                <div id=\"42f72056-3071-4247-8fd4-f8eb05191836\" class=\"plotly-graph-div\" style=\"height:525px; width:100%;\"></div>            <script type=\"text/javascript\">                                    window.PLOTLYENV=window.PLOTLYENV || {};                                    if (document.getElementById(\"42f72056-3071-4247-8fd4-f8eb05191836\")) {                    Plotly.newPlot(                        \"42f72056-3071-4247-8fd4-f8eb05191836\",                        [{\"alignmentgroup\":\"True\",\"hovertemplate\":\"x=%{x}<br>y=%{y}<extra></extra>\",\"legendgroup\":\"\",\"marker\":{\"color\":\"#636efa\",\"pattern\":{\"shape\":\"\"}},\"name\":\"\",\"offsetgroup\":\"\",\"orientation\":\"v\",\"showlegend\":false,\"textposition\":\"auto\",\"x\":[\"Sun\",\"Sirius\",\"Canopus\",\"Alpha Centauri\",\"Arcturus\",\"Vega\",\"Capella\",\"Rigel\",\"Procyon\",\"Betelgeuse\",\"Achernar\",\"Hadar\",\"Altair\",\"Acrux\",\"Aldebaran\",\"Antares\",\"Spica\",\"Pollux\",\"Fomalhaut\",\"Deneb\",\"Mimosa\",\"Regulus\",\"Adhara\",\"Shaula\",\"Castor\",\"Gacrux\",\"Bellatrix\",\"Elnath\",\"Miaplacidus\",\"Alnilam\",\"Gamma Velorum\",\"Alnair\",\"Alioth\",\"Alnitak\",\"Dubhe\",\"Mirfak\",\"Wezen\",\"Sargas\",\"Kaus Australis\",\"Avior\",\"Alkaid\",\"Menkalinan\",\"Atria\",\"Alhena\",\"Peacock\",\"Alsephina[2]\",\"Mirzam\",\"Polaris\",\"Alphard\",\"Scheat\",\"Almaaz\",\"Rasalgethi\",\"Tau Ceti\",\"Delta Pavonis\",\"Ran\",\"V382 Carinae\",\"Eta Carinae\",\"Delta Cephei\",\"Mu Cephei\",\"Titawin\",\"Rho Cassiopeiae\",\"P Cygni\",\"VV Cephei\",\"61 Cygni\",\"R Doradus\",\"Polaris Australis\",\"R Coronae Borealis\",\"54 Piscium\",\"Mira\",\"RW Cephei\",\"Lacaille 8760\",\"V838 Monocerotis\",\"HD 140283\",\"II Pegasi\",\"VY Canis Majoris\",\"Pistol Star\",\"S Doradus\",\"UY Scuti\",\"Barnard's Star\",\"Luhman 16\",\"Proxima Centauri\",\"KIC 8462852\",\"R136a1\",\"Melnick 42\",\"WR 102\",\"VFTS 352\",\"YBP 1194\",\"Gliese 1214\",\"NML Cygni\",\"VB 10\",\"WOH G64\",\"TRAPPIST-1\",\"2MASS J0523-1403\",\"WISE 0855\\u22120714\",\"Icarus\",\"SDSS J000013.54+255418.6\\u00a0[de]\",\"2MASS J00040288-6410358\",\"2MASS J00242463-0158201\",\"2MASS J00274197+0503417\",\"2MASSW J0030300-145033\",\"2MASS J00332386-1521309\\u00a0[de]\",\"2MASS J00345157+0523050\",\"2MASS 0036+1821\",\"2MASSW J0045214+163445\",\"WISEP J004701.06+680352.1\\u00a0[fr]\",\"2MASS J00501994-3322402\\u00a0[de]\",\"2MASS J00584253-0651239\\u00a0[de]\",\"2MASSI J0103320+193536\",\"SDSSp J010752.33+004156.1\\u00a0[de]\",\"2MASSI J0117474-340325\\u00a0[de]\",\"2MASS J01415823-4633574\\u00a0[de]\",\"SDSS J015141.69+124429.6\",\"SDSS J020742.48+000056.2\\u00a0[de]\",\"2MASS J02103857-3015313\",\"2MASS J02340093-6442068\",\"2MASS J02411151-0326587\\u00a0[de]\",\"2MASS J02431371\\u22122453298\",\"LP 771-21\",\"Teegarden's star\",\"2MASS J02535980+3206373\",\"WISE J0254+0223\",\"DEN 0255-4700\",\"2MASS J03185403-3421292\\u00a0[de]\",\"2MASS J03205965+1854233\",\"2MASS J03231002-4631237\",\"SDSS J032553.17+042540.1\",\"2MASS J03264225-2102057\\u00a0[de]\",\"2MASS J03284265+2302051\\u00a0[de]\",\"2MASS J03341218-4953322\",\"LP 944-20\",\"2MASP J0345432+254023\",\"Teide 1\",\"2MASS J03510004-0052452\",\"2MASS J03552337+1133437\",\"2MASS J04151954\\u22120935066\",\"2MASS J04285096-2253227\\u00a0[de]\",\"2MASS J04351612-1606574\",\"2MASS J04362788-4114465\",\"2MASS J04390101-2353083\\u00a0[de]\",\"2MASS J04433764+0002040\",\"2MASS J04455387-3048204\\u00a0[de]\",\"2MASS J04510093-3402150\\u00a0[de]\",\"2MASS J05002100+0330501\\u00a0[de]\",\"2MASS J05012406-0010452\\u00a0[de]\",\"2MASS J05160945-0445499\\u00a0[de]\",\"2MASS J0523\\u22121403\",\"SDSS J053951.99-005902.0\",\"LSR 0602+3910\\u00a0[de]\",\"2MASS J06085283-2753583\",\"2MASS J06244595-4521548\\u00a0[de]\",\"2MASS J06411840-4322329\\u00a0[de]\",\"DENIS-P J0652197-253450\\u00a0[de]\",\"2MASS J07075327-4900503\",\"UGPS J072227.51-054031.2\",\"2MASSI J0727182+171001\\u00a0[de]\",\"2MASS J07290002-3954043\\u00a0[de]\",\"SDSS J074201.41+205520.5\\u00a0[de]\",\"DENIS-P J0751164-253043\\u00a0[de]\",\"2MASS J07522390+1612157\",\"DENIS J081730.0-615520\",\"2MASS J08251968+2115521\\u00a0[de]\",\"SDSSp J083008.12+482847.4\\u00a0[de]\",\"LHS 2021\",\"SDSS J083048.80+012831.1\\u00a0[de]\",\"2MASSI J0835425-081923\\u00a0[de]\",\"2MASSI J0847287-153237\\u00a0[de]\",\"2MASS J08533619-0329321\",\"2MASSI J0859254-194926\\u00a0[de]\",\"2MASSI J0937347+293142\",\"2MASS 0939\\u22122448\",\"2MASS J09490860-1545485\\u00a0[de]\",\"2MASS J10073369-4555147\",\"2MASSI J1010148-040649\\u00a0[de]\",\"2MASS J10224821+5825453\\u00a0[de]\",\"2MASSW J1036530-344138\\u00a0[de]\",\"2MASS J1047538+212423\\u00a0[de]\",\"DEN 1048-3956\",\"Luhman 16B\",\"Luhman 16A\",\"DENIS-P J1058.7\\u22121548\",\"TWA 28\",\"Cha 110913-773444\",\"SDSS J111010.01+011613.1\",\"2MASS J11145133\\u22122618235\",\"TWA 26\",\"2MASS J11544223-3400390\\u00a0[de]\",\"2MASSW J1155395-372735\\u00a0[de]\",\"2MASS J12074836-3900043\",\"2MASSI J1217110-031113\\u00a0[de]\",\"2M 1237+6526\",\"TWA 29\",\"SDSSp J125453.90-012247.4\\u00a0[de]\",\"Kelu-1A\",\"Kelu-1B\",\"2MASS J13204427+0409045\",\"SDSSp J132629.82-003831.5\\u00a0[de]\",\"SDSSp J134646.45-003150.4\\u00a0[de]\",\"2MASS J13595510-4034582\",\"ULAS J141623.94+134836.3\",\"SDSS J141659.78+500626.4\\u00a0[de]\",\"DENIS-P J142527.97-365023.4\\u00a0[de]\",\"LHS 2924\",\"2MASS J14392837+1929150\",\"LSPM J1440+1339\",\"2MASS J14482563+1031590\\u00a0[de]\",\"CFBDSIR 1458+10A\",\"CFBDSIR 1458+10B\",\"TVLM 513-46546\",\"2MASS 1503+2525\",\"CFBDS J150411+102717\",\"2MASSW J1506544+132106\\u00a0[de]\",\"2MASS 1507\\u22121627\",\"TVLM 868-110639\",\"2MASSW J1515008+484742\\u00a0[de]\",\"2MASSI J1526140+204341\\u00a0[de]\",\"DENIS-P J153941.96-052042.4\\u00a0[de]\",\"2MASS J15462718-3325111\\u00a0[de]\",\"2MASSW J1552591+294849\\u00a0[de]\",\"2MASSW J1555157-095605\\u00a0[de]\",\"2MASS J16150413+1340079\\u00a0[de]\",\"SDSSp J162414.37+002915.6\\u00a0[de]\",\"2MASS J16262034+3925190\\u00a0[de]\",\"2MASSW J1632291+190441\\u00a0[de]\",\"WISEPA J164715.59+563208.2\",\"LSPM J1658+7027\\u00a0[de]\",\"2MASSI J1726000+153819\",\"SDSSp J175032.96+175903.9\",\"2MASS J18283572-4849046\",\"LSR J1835+3259\",\"2MASSW J1841086+311727\",\"2MASS J18432213+4040209\",\"2MASS J20004841-7523070\",\"SDSS J204749.61-071818.3\",\"2MASSI J2057540-025230\",\"2MASSI J2104149-103736\",\"PSO J318.5\\u221222\",\"HB 2124-4228\",\"2MASS J21392676+0220226\",\"2MASS J21481628+4003593\",\"2MASSW J2206450-421721\",\"2MASSW J2208136+292121\",\"2MASSW J2224438-015852\",\"2MASS J22282889-4310262\",\"2MASS J22373255+3922398\",\"2MASSW J2244316+204343\",\"2MASS J23224684-3133231\",\"2MASS J23225299-6151275\",\"2MASS J23515044-2537367\",\"2MASSI J2356547-155310\",\"WISE 0410+1502\",\"WISE 0458+6434A\",\"WISE 0458+6434B\",\"WISE 1405+5534\"],\"xaxis\":\"x\",\"y\":[1.0,2.1,15.0,1.1,1.1,2.2,2.6,23.0,1.5,20.0,6.7,10.5,1.8,18.0,1.5,12.0,11.43,1.9,1.9,19.0,16.0,3.8,12.5,14.5,2.8,1.5,8.6,5.0,3.5,32.0,9.0,4.0,2.9,33.0,4.25,8.5,17.0,5.7,3.5,9.0,6.1,2.39,7.0,2.8,5.9,2.4,13.5,5.4,3.0,2.1,15.0,2.8,0.783,0.991,0.82,20.0,100.0,4.5,19.2,1.27,22.0,30.0,18.2,0.7,0.8,1.59,0.85,0.76,1.2,13.9,0.6,0.5,2.0,0.8,17.0,100.0,24.0,7.0,0.14,0.04,0.12,1.43,290.0,189.0,19.0,57.48,1.01,0.16,50.0,0.075,20.0,0.089,0.07,0.003,33.0,0.045820224,0.018137172,0.075412452,0.029592228,0.051547752,0.027683052,0.040092696,0.040092696,0.021955524,0.011455056,0.03818352,0.027683052,0.049638576,0.049638576,0.01909176,0.01909176,0.044865636,0.044865636,0.01431882,0.01909176,0.025773876,0.031501404,0.074457864,0.07636704,0.06204822,0.06204822,0.07636704,0.046774812,0.084003744,0.021955524,0.04295646,0.017182584,0.051547752,0.069684924,0.069684924,0.070639512,0.05250234,0.097367976,0.01909176,0.02863764,0.07636704,0.0954588,0.037228932,0.045820224,0.021000936,0.061093632,0.000992772,0.061093632,0.020046348,0.044865636,0.064911984,0.058229868,0.026728464,0.036274344,0.053456928,0.063957396,0.0715941,0.068730336,0.024819288,0.039138108,0.035319756,0.041047284,0.067775748,0.001918722,0.042001872,0.049638576,0.045820224,0.084003744,0.043911048,0.059184456,0.061093632,0.073503276,0.0477294,0.040092696,0.030546816,0.046774812,0.042001872,0.048683988,0.025773876,0.046774812,0.040092696,0.073503276,0.041047284,0.03818352,0.061093632,0.034365168,0.007636704,0.008591292,0.031501404,0.02863764,0.035319756,0.061093632,0.016227996,0.040092696,0.039138108,0.001909176,0.044865636,0.060139044,0.055366104,0.063957396,0.048683988,0.042001872,0.060139044,0.030546816,0.056320692,0.020046348,0.072548688,0.068730336,0.087822096,0.056320692,0.010595927,0.008591292,0.0715941,0.042001872,0.042001872,0.065866572,0.05727528,0.075412452,0.054411516,0.051547752,0.060139044,0.042001872,0.02863764,0.067775748,0.040092696,0.041047284,0.067775748,0.046774812,0.039138108,0.069684924,0.022910112,0.044865636,0.04295646,0.073503276,0.063957396,0.091640448,0.0238647,0.043911048,0.06682116,0.065866572,0.006204822,0.089731272,0.043911048,0.05250234,0.021000936,0.025773876,0.058229868,0.040092696,0.069684924,0.011455056,0.022910112,0.016227996,0.084003744,0.07636704,0.005727528,0.01431882,0.00954588,0.02863764],\"yaxis\":\"y\",\"type\":\"bar\"}],                        {\"template\":{\"data\":{\"bar\":[{\"error_x\":{\"color\":\"#2a3f5f\"},\"error_y\":{\"color\":\"#2a3f5f\"},\"marker\":{\"line\":{\"color\":\"#E5ECF6\",\"width\":0.5},\"pattern\":{\"fillmode\":\"overlay\",\"size\":10,\"solidity\":0.2}},\"type\":\"bar\"}],\"barpolar\":[{\"marker\":{\"line\":{\"color\":\"#E5ECF6\",\"width\":0.5},\"pattern\":{\"fillmode\":\"overlay\",\"size\":10,\"solidity\":0.2}},\"type\":\"barpolar\"}],\"carpet\":[{\"aaxis\":{\"endlinecolor\":\"#2a3f5f\",\"gridcolor\":\"white\",\"linecolor\":\"white\",\"minorgridcolor\":\"white\",\"startlinecolor\":\"#2a3f5f\"},\"baxis\":{\"endlinecolor\":\"#2a3f5f\",\"gridcolor\":\"white\",\"linecolor\":\"white\",\"minorgridcolor\":\"white\",\"startlinecolor\":\"#2a3f5f\"},\"type\":\"carpet\"}],\"choropleth\":[{\"colorbar\":{\"outlinewidth\":0,\"ticks\":\"\"},\"type\":\"choropleth\"}],\"contour\":[{\"colorbar\":{\"outlinewidth\":0,\"ticks\":\"\"},\"colorscale\":[[0.0,\"#0d0887\"],[0.1111111111111111,\"#46039f\"],[0.2222222222222222,\"#7201a8\"],[0.3333333333333333,\"#9c179e\"],[0.4444444444444444,\"#bd3786\"],[0.5555555555555556,\"#d8576b\"],[0.6666666666666666,\"#ed7953\"],[0.7777777777777778,\"#fb9f3a\"],[0.8888888888888888,\"#fdca26\"],[1.0,\"#f0f921\"]],\"type\":\"contour\"}],\"contourcarpet\":[{\"colorbar\":{\"outlinewidth\":0,\"ticks\":\"\"},\"type\":\"contourcarpet\"}],\"heatmap\":[{\"colorbar\":{\"outlinewidth\":0,\"ticks\":\"\"},\"colorscale\":[[0.0,\"#0d0887\"],[0.1111111111111111,\"#46039f\"],[0.2222222222222222,\"#7201a8\"],[0.3333333333333333,\"#9c179e\"],[0.4444444444444444,\"#bd3786\"],[0.5555555555555556,\"#d8576b\"],[0.6666666666666666,\"#ed7953\"],[0.7777777777777778,\"#fb9f3a\"],[0.8888888888888888,\"#fdca26\"],[1.0,\"#f0f921\"]],\"type\":\"heatmap\"}],\"heatmapgl\":[{\"colorbar\":{\"outlinewidth\":0,\"ticks\":\"\"},\"colorscale\":[[0.0,\"#0d0887\"],[0.1111111111111111,\"#46039f\"],[0.2222222222222222,\"#7201a8\"],[0.3333333333333333,\"#9c179e\"],[0.4444444444444444,\"#bd3786\"],[0.5555555555555556,\"#d8576b\"],[0.6666666666666666,\"#ed7953\"],[0.7777777777777778,\"#fb9f3a\"],[0.8888888888888888,\"#fdca26\"],[1.0,\"#f0f921\"]],\"type\":\"heatmapgl\"}],\"histogram\":[{\"marker\":{\"pattern\":{\"fillmode\":\"overlay\",\"size\":10,\"solidity\":0.2}},\"type\":\"histogram\"}],\"histogram2d\":[{\"colorbar\":{\"outlinewidth\":0,\"ticks\":\"\"},\"colorscale\":[[0.0,\"#0d0887\"],[0.1111111111111111,\"#46039f\"],[0.2222222222222222,\"#7201a8\"],[0.3333333333333333,\"#9c179e\"],[0.4444444444444444,\"#bd3786\"],[0.5555555555555556,\"#d8576b\"],[0.6666666666666666,\"#ed7953\"],[0.7777777777777778,\"#fb9f3a\"],[0.8888888888888888,\"#fdca26\"],[1.0,\"#f0f921\"]],\"type\":\"histogram2d\"}],\"histogram2dcontour\":[{\"colorbar\":{\"outlinewidth\":0,\"ticks\":\"\"},\"colorscale\":[[0.0,\"#0d0887\"],[0.1111111111111111,\"#46039f\"],[0.2222222222222222,\"#7201a8\"],[0.3333333333333333,\"#9c179e\"],[0.4444444444444444,\"#bd3786\"],[0.5555555555555556,\"#d8576b\"],[0.6666666666666666,\"#ed7953\"],[0.7777777777777778,\"#fb9f3a\"],[0.8888888888888888,\"#fdca26\"],[1.0,\"#f0f921\"]],\"type\":\"histogram2dcontour\"}],\"mesh3d\":[{\"colorbar\":{\"outlinewidth\":0,\"ticks\":\"\"},\"type\":\"mesh3d\"}],\"parcoords\":[{\"line\":{\"colorbar\":{\"outlinewidth\":0,\"ticks\":\"\"}},\"type\":\"parcoords\"}],\"pie\":[{\"automargin\":true,\"type\":\"pie\"}],\"scatter\":[{\"marker\":{\"colorbar\":{\"outlinewidth\":0,\"ticks\":\"\"}},\"type\":\"scatter\"}],\"scatter3d\":[{\"line\":{\"colorbar\":{\"outlinewidth\":0,\"ticks\":\"\"}},\"marker\":{\"colorbar\":{\"outlinewidth\":0,\"ticks\":\"\"}},\"type\":\"scatter3d\"}],\"scattercarpet\":[{\"marker\":{\"colorbar\":{\"outlinewidth\":0,\"ticks\":\"\"}},\"type\":\"scattercarpet\"}],\"scattergeo\":[{\"marker\":{\"colorbar\":{\"outlinewidth\":0,\"ticks\":\"\"}},\"type\":\"scattergeo\"}],\"scattergl\":[{\"marker\":{\"colorbar\":{\"outlinewidth\":0,\"ticks\":\"\"}},\"type\":\"scattergl\"}],\"scattermapbox\":[{\"marker\":{\"colorbar\":{\"outlinewidth\":0,\"ticks\":\"\"}},\"type\":\"scattermapbox\"}],\"scatterpolar\":[{\"marker\":{\"colorbar\":{\"outlinewidth\":0,\"ticks\":\"\"}},\"type\":\"scatterpolar\"}],\"scatterpolargl\":[{\"marker\":{\"colorbar\":{\"outlinewidth\":0,\"ticks\":\"\"}},\"type\":\"scatterpolargl\"}],\"scatterternary\":[{\"marker\":{\"colorbar\":{\"outlinewidth\":0,\"ticks\":\"\"}},\"type\":\"scatterternary\"}],\"surface\":[{\"colorbar\":{\"outlinewidth\":0,\"ticks\":\"\"},\"colorscale\":[[0.0,\"#0d0887\"],[0.1111111111111111,\"#46039f\"],[0.2222222222222222,\"#7201a8\"],[0.3333333333333333,\"#9c179e\"],[0.4444444444444444,\"#bd3786\"],[0.5555555555555556,\"#d8576b\"],[0.6666666666666666,\"#ed7953\"],[0.7777777777777778,\"#fb9f3a\"],[0.8888888888888888,\"#fdca26\"],[1.0,\"#f0f921\"]],\"type\":\"surface\"}],\"table\":[{\"cells\":{\"fill\":{\"color\":\"#EBF0F8\"},\"line\":{\"color\":\"white\"}},\"header\":{\"fill\":{\"color\":\"#C8D4E3\"},\"line\":{\"color\":\"white\"}},\"type\":\"table\"}]},\"layout\":{\"annotationdefaults\":{\"arrowcolor\":\"#2a3f5f\",\"arrowhead\":0,\"arrowwidth\":1},\"autotypenumbers\":\"strict\",\"coloraxis\":{\"colorbar\":{\"outlinewidth\":0,\"ticks\":\"\"}},\"colorscale\":{\"diverging\":[[0,\"#8e0152\"],[0.1,\"#c51b7d\"],[0.2,\"#de77ae\"],[0.3,\"#f1b6da\"],[0.4,\"#fde0ef\"],[0.5,\"#f7f7f7\"],[0.6,\"#e6f5d0\"],[0.7,\"#b8e186\"],[0.8,\"#7fbc41\"],[0.9,\"#4d9221\"],[1,\"#276419\"]],\"sequential\":[[0.0,\"#0d0887\"],[0.1111111111111111,\"#46039f\"],[0.2222222222222222,\"#7201a8\"],[0.3333333333333333,\"#9c179e\"],[0.4444444444444444,\"#bd3786\"],[0.5555555555555556,\"#d8576b\"],[0.6666666666666666,\"#ed7953\"],[0.7777777777777778,\"#fb9f3a\"],[0.8888888888888888,\"#fdca26\"],[1.0,\"#f0f921\"]],\"sequentialminus\":[[0.0,\"#0d0887\"],[0.1111111111111111,\"#46039f\"],[0.2222222222222222,\"#7201a8\"],[0.3333333333333333,\"#9c179e\"],[0.4444444444444444,\"#bd3786\"],[0.5555555555555556,\"#d8576b\"],[0.6666666666666666,\"#ed7953\"],[0.7777777777777778,\"#fb9f3a\"],[0.8888888888888888,\"#fdca26\"],[1.0,\"#f0f921\"]]},\"colorway\":[\"#636efa\",\"#EF553B\",\"#00cc96\",\"#ab63fa\",\"#FFA15A\",\"#19d3f3\",\"#FF6692\",\"#B6E880\",\"#FF97FF\",\"#FECB52\"],\"font\":{\"color\":\"#2a3f5f\"},\"geo\":{\"bgcolor\":\"white\",\"lakecolor\":\"white\",\"landcolor\":\"#E5ECF6\",\"showlakes\":true,\"showland\":true,\"subunitcolor\":\"white\"},\"hoverlabel\":{\"align\":\"left\"},\"hovermode\":\"closest\",\"mapbox\":{\"style\":\"light\"},\"paper_bgcolor\":\"white\",\"plot_bgcolor\":\"#E5ECF6\",\"polar\":{\"angularaxis\":{\"gridcolor\":\"white\",\"linecolor\":\"white\",\"ticks\":\"\"},\"bgcolor\":\"#E5ECF6\",\"radialaxis\":{\"gridcolor\":\"white\",\"linecolor\":\"white\",\"ticks\":\"\"}},\"scene\":{\"xaxis\":{\"backgroundcolor\":\"#E5ECF6\",\"gridcolor\":\"white\",\"gridwidth\":2,\"linecolor\":\"white\",\"showbackground\":true,\"ticks\":\"\",\"zerolinecolor\":\"white\"},\"yaxis\":{\"backgroundcolor\":\"#E5ECF6\",\"gridcolor\":\"white\",\"gridwidth\":2,\"linecolor\":\"white\",\"showbackground\":true,\"ticks\":\"\",\"zerolinecolor\":\"white\"},\"zaxis\":{\"backgroundcolor\":\"#E5ECF6\",\"gridcolor\":\"white\",\"gridwidth\":2,\"linecolor\":\"white\",\"showbackground\":true,\"ticks\":\"\",\"zerolinecolor\":\"white\"}},\"shapedefaults\":{\"line\":{\"color\":\"#2a3f5f\"}},\"ternary\":{\"aaxis\":{\"gridcolor\":\"white\",\"linecolor\":\"white\",\"ticks\":\"\"},\"baxis\":{\"gridcolor\":\"white\",\"linecolor\":\"white\",\"ticks\":\"\"},\"bgcolor\":\"#E5ECF6\",\"caxis\":{\"gridcolor\":\"white\",\"linecolor\":\"white\",\"ticks\":\"\"}},\"title\":{\"x\":0.05},\"xaxis\":{\"automargin\":true,\"gridcolor\":\"white\",\"linecolor\":\"white\",\"ticks\":\"\",\"title\":{\"standoff\":15},\"zerolinecolor\":\"white\",\"zerolinewidth\":2},\"yaxis\":{\"automargin\":true,\"gridcolor\":\"white\",\"linecolor\":\"white\",\"ticks\":\"\",\"title\":{\"standoff\":15},\"zerolinecolor\":\"white\",\"zerolinewidth\":2}}},\"xaxis\":{\"anchor\":\"y\",\"domain\":[0.0,1.0],\"title\":{\"text\":\"x\"}},\"yaxis\":{\"anchor\":\"x\",\"domain\":[0.0,1.0],\"title\":{\"text\":\"y\"}},\"legend\":{\"tracegroupgap\":0},\"margin\":{\"t\":60},\"barmode\":\"relative\"},                        {\"responsive\": true}                    ).then(function(){\n",
              "                            \n",
              "var gd = document.getElementById('42f72056-3071-4247-8fd4-f8eb05191836');\n",
              "var x = new MutationObserver(function (mutations, observer) {{\n",
              "        var display = window.getComputedStyle(gd).display;\n",
              "        if (!display || display === 'none') {{\n",
              "            console.log([gd, 'removed!']);\n",
              "            Plotly.purge(gd);\n",
              "            observer.disconnect();\n",
              "        }}\n",
              "}});\n",
              "\n",
              "// Listen for the removal of the full notebook cells\n",
              "var notebookContainer = gd.closest('#notebook-container');\n",
              "if (notebookContainer) {{\n",
              "    x.observe(notebookContainer, {childList: true});\n",
              "}}\n",
              "\n",
              "// Listen for the clearing of the current output cell\n",
              "var outputEl = gd.closest('.output');\n",
              "if (outputEl) {{\n",
              "    x.observe(outputEl, {childList: true});\n",
              "}}\n",
              "\n",
              "                        })                };                            </script>        </div>\n",
              "</body>\n",
              "</html>"
            ]
          },
          "metadata": {}
        }
      ]
    },
    {
      "cell_type": "code",
      "source": [
        "import plotly.express as px\n",
        "\n",
        "fig=px.bar(x= starName, y= radius)\n",
        "fig.show()"
      ],
      "metadata": {
        "colab": {
          "base_uri": "https://localhost:8080/",
          "height": 542
        },
        "id": "DVPwWJxIZpqW",
        "outputId": "7ed445c8-92d0-43f9-e6d8-60ab8761b5b8"
      },
      "execution_count": 7,
      "outputs": [
        {
          "output_type": "display_data",
          "data": {
            "text/html": [
              "<html>\n",
              "<head><meta charset=\"utf-8\" /></head>\n",
              "<body>\n",
              "    <div>            <script src=\"https://cdnjs.cloudflare.com/ajax/libs/mathjax/2.7.5/MathJax.js?config=TeX-AMS-MML_SVG\"></script><script type=\"text/javascript\">if (window.MathJax) {MathJax.Hub.Config({SVG: {font: \"STIX-Web\"}});}</script>                <script type=\"text/javascript\">window.PlotlyConfig = {MathJaxConfig: 'local'};</script>\n",
              "        <script src=\"https://cdn.plot.ly/plotly-2.8.3.min.js\"></script>                <div id=\"95d60081-ef9c-427b-9b45-4a6e10e3fec3\" class=\"plotly-graph-div\" style=\"height:525px; width:100%;\"></div>            <script type=\"text/javascript\">                                    window.PLOTLYENV=window.PLOTLYENV || {};                                    if (document.getElementById(\"95d60081-ef9c-427b-9b45-4a6e10e3fec3\")) {                    Plotly.newPlot(                        \"95d60081-ef9c-427b-9b45-4a6e10e3fec3\",                        [{\"alignmentgroup\":\"True\",\"hovertemplate\":\"x=%{x}<br>y=%{y}<extra></extra>\",\"legendgroup\":\"\",\"marker\":{\"color\":\"#636efa\",\"pattern\":{\"shape\":\"\"}},\"name\":\"\",\"offsetgroup\":\"\",\"orientation\":\"v\",\"showlegend\":false,\"textposition\":\"auto\",\"x\":[\"Sun\",\"Sirius\",\"Canopus\",\"Alpha Centauri\",\"Arcturus\",\"Vega\",\"Capella\",\"Rigel\",\"Procyon\",\"Betelgeuse\",\"Achernar\",\"Hadar\",\"Altair\",\"Acrux\",\"Aldebaran\",\"Antares\",\"Spica\",\"Pollux\",\"Fomalhaut\",\"Deneb\",\"Mimosa\",\"Regulus\",\"Adhara\",\"Shaula\",\"Castor\",\"Gacrux\",\"Bellatrix\",\"Elnath\",\"Miaplacidus\",\"Alnilam\",\"Gamma Velorum\",\"Alnair\",\"Alioth\",\"Alnitak\",\"Dubhe\",\"Mirfak\",\"Wezen\",\"Sargas\",\"Kaus Australis\",\"Avior\",\"Alkaid\",\"Menkalinan\",\"Atria\",\"Alhena\",\"Peacock\",\"Alsephina[2]\",\"Mirzam\",\"Polaris\",\"Alphard\",\"Scheat\",\"Almaaz\",\"Rasalgethi\",\"Tau Ceti\",\"Delta Pavonis\",\"Ran\",\"V382 Carinae\",\"Eta Carinae\",\"Delta Cephei\",\"Mu Cephei\",\"Titawin\",\"Rho Cassiopeiae\",\"P Cygni\",\"VV Cephei\",\"61 Cygni\",\"R Doradus\",\"Polaris Australis\",\"R Coronae Borealis\",\"54 Piscium\",\"Mira\",\"RW Cephei\",\"Lacaille 8760\",\"V838 Monocerotis\",\"HD 140283\",\"II Pegasi\",\"VY Canis Majoris\",\"Pistol Star\",\"S Doradus\",\"UY Scuti\",\"Barnard's Star\",\"Luhman 16\",\"Proxima Centauri\",\"KIC 8462852\",\"R136a1\",\"Melnick 42\",\"WR 102\",\"VFTS 352\",\"YBP 1194\",\"Gliese 1214\",\"NML Cygni\",\"VB 10\",\"WOH G64\",\"TRAPPIST-1\",\"2MASS J0523-1403\",\"WISE 0855\\u22120714\",\"Icarus\",\"SDSS J000013.54+255418.6\\u00a0[de]\",\"2MASS J00040288-6410358\",\"2MASS J00242463-0158201\",\"2MASS J00274197+0503417\",\"2MASSW J0030300-145033\",\"2MASS J00332386-1521309\\u00a0[de]\",\"2MASS J00345157+0523050\",\"2MASS 0036+1821\",\"2MASSW J0045214+163445\",\"WISEP J004701.06+680352.1\\u00a0[fr]\",\"2MASS J00501994-3322402\\u00a0[de]\",\"2MASS J00584253-0651239\\u00a0[de]\",\"2MASSI J0103320+193536\",\"SDSSp J010752.33+004156.1\\u00a0[de]\",\"2MASSI J0117474-340325\\u00a0[de]\",\"2MASS J01415823-4633574\\u00a0[de]\",\"SDSS J015141.69+124429.6\",\"SDSS J020742.48+000056.2\\u00a0[de]\",\"2MASS J02103857-3015313\",\"2MASS J02340093-6442068\",\"2MASS J02411151-0326587\\u00a0[de]\",\"2MASS J02431371\\u22122453298\",\"LP 771-21\",\"Teegarden's star\",\"2MASS J02535980+3206373\",\"WISE J0254+0223\",\"DEN 0255-4700\",\"2MASS J03185403-3421292\\u00a0[de]\",\"2MASS J03205965+1854233\",\"2MASS J03231002-4631237\",\"SDSS J032553.17+042540.1\",\"2MASS J03264225-2102057\\u00a0[de]\",\"2MASS J03284265+2302051\\u00a0[de]\",\"2MASS J03341218-4953322\",\"LP 944-20\",\"2MASP J0345432+254023\",\"Teide 1\",\"2MASS J03510004-0052452\",\"2MASS J03552337+1133437\",\"2MASS J04151954\\u22120935066\",\"2MASS J04285096-2253227\\u00a0[de]\",\"2MASS J04351612-1606574\",\"2MASS J04362788-4114465\",\"2MASS J04390101-2353083\\u00a0[de]\",\"2MASS J04433764+0002040\",\"2MASS J04455387-3048204\\u00a0[de]\",\"2MASS J04510093-3402150\\u00a0[de]\",\"2MASS J05002100+0330501\\u00a0[de]\",\"2MASS J05012406-0010452\\u00a0[de]\",\"2MASS J05160945-0445499\\u00a0[de]\",\"2MASS J0523\\u22121403\",\"SDSS J053951.99-005902.0\",\"LSR 0602+3910\\u00a0[de]\",\"2MASS J06085283-2753583\",\"2MASS J06244595-4521548\\u00a0[de]\",\"2MASS J06411840-4322329\\u00a0[de]\",\"DENIS-P J0652197-253450\\u00a0[de]\",\"2MASS J07075327-4900503\",\"UGPS J072227.51-054031.2\",\"2MASSI J0727182+171001\\u00a0[de]\",\"2MASS J07290002-3954043\\u00a0[de]\",\"SDSS J074201.41+205520.5\\u00a0[de]\",\"DENIS-P J0751164-253043\\u00a0[de]\",\"2MASS J07522390+1612157\",\"DENIS J081730.0-615520\",\"2MASS J08251968+2115521\\u00a0[de]\",\"SDSSp J083008.12+482847.4\\u00a0[de]\",\"LHS 2021\",\"SDSS J083048.80+012831.1\\u00a0[de]\",\"2MASSI J0835425-081923\\u00a0[de]\",\"2MASSI J0847287-153237\\u00a0[de]\",\"2MASS J08533619-0329321\",\"2MASSI J0859254-194926\\u00a0[de]\",\"2MASSI J0937347+293142\",\"2MASS 0939\\u22122448\",\"2MASS J09490860-1545485\\u00a0[de]\",\"2MASS J10073369-4555147\",\"2MASSI J1010148-040649\\u00a0[de]\",\"2MASS J10224821+5825453\\u00a0[de]\",\"2MASSW J1036530-344138\\u00a0[de]\",\"2MASS J1047538+212423\\u00a0[de]\",\"DEN 1048-3956\",\"Luhman 16B\",\"Luhman 16A\",\"DENIS-P J1058.7\\u22121548\",\"TWA 28\",\"Cha 110913-773444\",\"SDSS J111010.01+011613.1\",\"2MASS J11145133\\u22122618235\",\"TWA 26\",\"2MASS J11544223-3400390\\u00a0[de]\",\"2MASSW J1155395-372735\\u00a0[de]\",\"2MASS J12074836-3900043\",\"2MASSI J1217110-031113\\u00a0[de]\",\"2M 1237+6526\",\"TWA 29\",\"SDSSp J125453.90-012247.4\\u00a0[de]\",\"Kelu-1A\",\"Kelu-1B\",\"2MASS J13204427+0409045\",\"SDSSp J132629.82-003831.5\\u00a0[de]\",\"SDSSp J134646.45-003150.4\\u00a0[de]\",\"2MASS J13595510-4034582\",\"ULAS J141623.94+134836.3\",\"SDSS J141659.78+500626.4\\u00a0[de]\",\"DENIS-P J142527.97-365023.4\\u00a0[de]\",\"LHS 2924\",\"2MASS J14392837+1929150\",\"LSPM J1440+1339\",\"2MASS J14482563+1031590\\u00a0[de]\",\"CFBDSIR 1458+10A\",\"CFBDSIR 1458+10B\",\"TVLM 513-46546\",\"2MASS 1503+2525\",\"CFBDS J150411+102717\",\"2MASSW J1506544+132106\\u00a0[de]\",\"2MASS 1507\\u22121627\",\"TVLM 868-110639\",\"2MASSW J1515008+484742\\u00a0[de]\",\"2MASSI J1526140+204341\\u00a0[de]\",\"DENIS-P J153941.96-052042.4\\u00a0[de]\",\"2MASS J15462718-3325111\\u00a0[de]\",\"2MASSW J1552591+294849\\u00a0[de]\",\"2MASSW J1555157-095605\\u00a0[de]\",\"2MASS J16150413+1340079\\u00a0[de]\",\"SDSSp J162414.37+002915.6\\u00a0[de]\",\"2MASS J16262034+3925190\\u00a0[de]\",\"2MASSW J1632291+190441\\u00a0[de]\",\"WISEPA J164715.59+563208.2\",\"LSPM J1658+7027\\u00a0[de]\",\"2MASSI J1726000+153819\",\"SDSSp J175032.96+175903.9\",\"2MASS J18283572-4849046\",\"LSR J1835+3259\",\"2MASSW J1841086+311727\",\"2MASS J18432213+4040209\",\"2MASS J20004841-7523070\",\"SDSS J204749.61-071818.3\",\"2MASSI J2057540-025230\",\"2MASSI J2104149-103736\",\"PSO J318.5\\u221222\",\"HB 2124-4228\",\"2MASS J21392676+0220226\",\"2MASS J21481628+4003593\",\"2MASSW J2206450-421721\",\"2MASSW J2208136+292121\",\"2MASSW J2224438-015852\",\"2MASS J22282889-4310262\",\"2MASS J22373255+3922398\",\"2MASSW J2244316+204343\",\"2MASS J23224684-3133231\",\"2MASS J23225299-6151275\",\"2MASS J23515044-2537367\",\"2MASSI J2356547-155310\",\"WISE 0410+1502\",\"WISE 0458+6434A\",\"WISE 0458+6434B\",\"WISE 1405+5534\"],\"xaxis\":\"x\",\"y\":[1.0,1.71,71.0,1.2,26.0,2.7,12.0,78.9,1.9,950.0,9.3,8.6,1.8,8.9,44.0,680.0,7.47,8.8,1.8,203.0,8.4,3.1,14.0,8.8,2.4,84.0,5.8,4.2,6.8,42.0,6.0,3.4,4.2,20.0,30.0,68.0,200.0,26.0,6.8,130.0,3.4,2.77,92.0,3.3,4.8,2.9,10.0,39.0,50.0,95.0,140.0,280.0,0.893,1.22,0.74,485.0,881.0,44.5,972.0,1.48,800.0,76.0,750.0,0.665,298.0,3.74,85.0,0.94,370.0,1158.0,0.51,450.0,1.4,3.4,1420.0,320.0,380.0,755.0,0.2,0.02,0.15,1.58,32.0,21.1,0.39,14.47,0.99,0.21,1900.0,0.1,1600.0,0.12,0.086,0.086,0.2,0.10173537,0.16750369,0.11201167,0.14797872,0.10070774,0.14695109,0.09659722,0.09659722,0.16647606,0.1335919,0.09659722,0.14695109,0.10070774,0.10070774,0.16647606,0.16544843,0.09968011,0.09968011,0.15722739,0.16647606,0.14489583,0.10173537,0.11098404,0.13050901,0.1952497,0.1952497,0.09968011,0.09968011,0.11817745,0.17058658,0.09762485,0.1335919,0.10070774,0.10687352,0.14695109,0.10790115,0.38844414,0.13050901,0.13564716,0.09762485,0.11201167,0.12948138,0.20244311,0.09968011,0.18291814,0.102763,7.398936,0.102763,0.14181294,0.09968011,0.10379063,0.10379063,0.14489583,0.15517213,0.10173537,0.10379063,0.10790115,0.10584589,0.10070774,0.09659722,0.09659722,0.09659722,0.10584589,6.987884,0.09659722,0.10070774,0.10173537,0.11817745,0.09865248,0.102763,0.102763,0.10995641,0.10070774,0.09659722,0.09762485,0.09865248,0.09659722,0.10070774,0.14489583,0.09968011,0.09659722,0.10995641,0.10481826,0.10379063,0.102763,0.24560357,0.1849734,0.12742612,0.09865248,0.2260786,0.1541445,0.102763,0.17572473,0.09659722,0.09659722,2.569075,0.10070774,0.10070774,0.10070774,0.10379063,0.09968011,0.09659722,0.102763,0.09865248,0.10173537,0.13564716,0.10892878,0.10584589,0.12228797,0.10173537,0.1541445,0.1335919,0.10790115,0.09659722,0.09659722,0.10481826,0.10173537,0.11098404,0.10173537,0.10070774,0.102763,0.09659722,0.14695109,0.10584589,0.09659722,0.09659722,0.10584589,0.09968011,0.09659722,0.10687352,0.1438682,0.09968011,0.09762485,0.10995641,0.10379063,0.12537086,0.19319444,0.09865248,0.10481826,0.10481826,0.15722739,0.12434323,0.09865248,0.10173537,0.13667479,0.14489583,0.10173537,0.09659722,0.10687352,0.13256427,0.14284057,0.16339317,0.11920508,0.11201167,0.12023271,0.4316046,0.3904994,0.08837618],\"yaxis\":\"y\",\"type\":\"bar\"}],                        {\"template\":{\"data\":{\"bar\":[{\"error_x\":{\"color\":\"#2a3f5f\"},\"error_y\":{\"color\":\"#2a3f5f\"},\"marker\":{\"line\":{\"color\":\"#E5ECF6\",\"width\":0.5},\"pattern\":{\"fillmode\":\"overlay\",\"size\":10,\"solidity\":0.2}},\"type\":\"bar\"}],\"barpolar\":[{\"marker\":{\"line\":{\"color\":\"#E5ECF6\",\"width\":0.5},\"pattern\":{\"fillmode\":\"overlay\",\"size\":10,\"solidity\":0.2}},\"type\":\"barpolar\"}],\"carpet\":[{\"aaxis\":{\"endlinecolor\":\"#2a3f5f\",\"gridcolor\":\"white\",\"linecolor\":\"white\",\"minorgridcolor\":\"white\",\"startlinecolor\":\"#2a3f5f\"},\"baxis\":{\"endlinecolor\":\"#2a3f5f\",\"gridcolor\":\"white\",\"linecolor\":\"white\",\"minorgridcolor\":\"white\",\"startlinecolor\":\"#2a3f5f\"},\"type\":\"carpet\"}],\"choropleth\":[{\"colorbar\":{\"outlinewidth\":0,\"ticks\":\"\"},\"type\":\"choropleth\"}],\"contour\":[{\"colorbar\":{\"outlinewidth\":0,\"ticks\":\"\"},\"colorscale\":[[0.0,\"#0d0887\"],[0.1111111111111111,\"#46039f\"],[0.2222222222222222,\"#7201a8\"],[0.3333333333333333,\"#9c179e\"],[0.4444444444444444,\"#bd3786\"],[0.5555555555555556,\"#d8576b\"],[0.6666666666666666,\"#ed7953\"],[0.7777777777777778,\"#fb9f3a\"],[0.8888888888888888,\"#fdca26\"],[1.0,\"#f0f921\"]],\"type\":\"contour\"}],\"contourcarpet\":[{\"colorbar\":{\"outlinewidth\":0,\"ticks\":\"\"},\"type\":\"contourcarpet\"}],\"heatmap\":[{\"colorbar\":{\"outlinewidth\":0,\"ticks\":\"\"},\"colorscale\":[[0.0,\"#0d0887\"],[0.1111111111111111,\"#46039f\"],[0.2222222222222222,\"#7201a8\"],[0.3333333333333333,\"#9c179e\"],[0.4444444444444444,\"#bd3786\"],[0.5555555555555556,\"#d8576b\"],[0.6666666666666666,\"#ed7953\"],[0.7777777777777778,\"#fb9f3a\"],[0.8888888888888888,\"#fdca26\"],[1.0,\"#f0f921\"]],\"type\":\"heatmap\"}],\"heatmapgl\":[{\"colorbar\":{\"outlinewidth\":0,\"ticks\":\"\"},\"colorscale\":[[0.0,\"#0d0887\"],[0.1111111111111111,\"#46039f\"],[0.2222222222222222,\"#7201a8\"],[0.3333333333333333,\"#9c179e\"],[0.4444444444444444,\"#bd3786\"],[0.5555555555555556,\"#d8576b\"],[0.6666666666666666,\"#ed7953\"],[0.7777777777777778,\"#fb9f3a\"],[0.8888888888888888,\"#fdca26\"],[1.0,\"#f0f921\"]],\"type\":\"heatmapgl\"}],\"histogram\":[{\"marker\":{\"pattern\":{\"fillmode\":\"overlay\",\"size\":10,\"solidity\":0.2}},\"type\":\"histogram\"}],\"histogram2d\":[{\"colorbar\":{\"outlinewidth\":0,\"ticks\":\"\"},\"colorscale\":[[0.0,\"#0d0887\"],[0.1111111111111111,\"#46039f\"],[0.2222222222222222,\"#7201a8\"],[0.3333333333333333,\"#9c179e\"],[0.4444444444444444,\"#bd3786\"],[0.5555555555555556,\"#d8576b\"],[0.6666666666666666,\"#ed7953\"],[0.7777777777777778,\"#fb9f3a\"],[0.8888888888888888,\"#fdca26\"],[1.0,\"#f0f921\"]],\"type\":\"histogram2d\"}],\"histogram2dcontour\":[{\"colorbar\":{\"outlinewidth\":0,\"ticks\":\"\"},\"colorscale\":[[0.0,\"#0d0887\"],[0.1111111111111111,\"#46039f\"],[0.2222222222222222,\"#7201a8\"],[0.3333333333333333,\"#9c179e\"],[0.4444444444444444,\"#bd3786\"],[0.5555555555555556,\"#d8576b\"],[0.6666666666666666,\"#ed7953\"],[0.7777777777777778,\"#fb9f3a\"],[0.8888888888888888,\"#fdca26\"],[1.0,\"#f0f921\"]],\"type\":\"histogram2dcontour\"}],\"mesh3d\":[{\"colorbar\":{\"outlinewidth\":0,\"ticks\":\"\"},\"type\":\"mesh3d\"}],\"parcoords\":[{\"line\":{\"colorbar\":{\"outlinewidth\":0,\"ticks\":\"\"}},\"type\":\"parcoords\"}],\"pie\":[{\"automargin\":true,\"type\":\"pie\"}],\"scatter\":[{\"marker\":{\"colorbar\":{\"outlinewidth\":0,\"ticks\":\"\"}},\"type\":\"scatter\"}],\"scatter3d\":[{\"line\":{\"colorbar\":{\"outlinewidth\":0,\"ticks\":\"\"}},\"marker\":{\"colorbar\":{\"outlinewidth\":0,\"ticks\":\"\"}},\"type\":\"scatter3d\"}],\"scattercarpet\":[{\"marker\":{\"colorbar\":{\"outlinewidth\":0,\"ticks\":\"\"}},\"type\":\"scattercarpet\"}],\"scattergeo\":[{\"marker\":{\"colorbar\":{\"outlinewidth\":0,\"ticks\":\"\"}},\"type\":\"scattergeo\"}],\"scattergl\":[{\"marker\":{\"colorbar\":{\"outlinewidth\":0,\"ticks\":\"\"}},\"type\":\"scattergl\"}],\"scattermapbox\":[{\"marker\":{\"colorbar\":{\"outlinewidth\":0,\"ticks\":\"\"}},\"type\":\"scattermapbox\"}],\"scatterpolar\":[{\"marker\":{\"colorbar\":{\"outlinewidth\":0,\"ticks\":\"\"}},\"type\":\"scatterpolar\"}],\"scatterpolargl\":[{\"marker\":{\"colorbar\":{\"outlinewidth\":0,\"ticks\":\"\"}},\"type\":\"scatterpolargl\"}],\"scatterternary\":[{\"marker\":{\"colorbar\":{\"outlinewidth\":0,\"ticks\":\"\"}},\"type\":\"scatterternary\"}],\"surface\":[{\"colorbar\":{\"outlinewidth\":0,\"ticks\":\"\"},\"colorscale\":[[0.0,\"#0d0887\"],[0.1111111111111111,\"#46039f\"],[0.2222222222222222,\"#7201a8\"],[0.3333333333333333,\"#9c179e\"],[0.4444444444444444,\"#bd3786\"],[0.5555555555555556,\"#d8576b\"],[0.6666666666666666,\"#ed7953\"],[0.7777777777777778,\"#fb9f3a\"],[0.8888888888888888,\"#fdca26\"],[1.0,\"#f0f921\"]],\"type\":\"surface\"}],\"table\":[{\"cells\":{\"fill\":{\"color\":\"#EBF0F8\"},\"line\":{\"color\":\"white\"}},\"header\":{\"fill\":{\"color\":\"#C8D4E3\"},\"line\":{\"color\":\"white\"}},\"type\":\"table\"}]},\"layout\":{\"annotationdefaults\":{\"arrowcolor\":\"#2a3f5f\",\"arrowhead\":0,\"arrowwidth\":1},\"autotypenumbers\":\"strict\",\"coloraxis\":{\"colorbar\":{\"outlinewidth\":0,\"ticks\":\"\"}},\"colorscale\":{\"diverging\":[[0,\"#8e0152\"],[0.1,\"#c51b7d\"],[0.2,\"#de77ae\"],[0.3,\"#f1b6da\"],[0.4,\"#fde0ef\"],[0.5,\"#f7f7f7\"],[0.6,\"#e6f5d0\"],[0.7,\"#b8e186\"],[0.8,\"#7fbc41\"],[0.9,\"#4d9221\"],[1,\"#276419\"]],\"sequential\":[[0.0,\"#0d0887\"],[0.1111111111111111,\"#46039f\"],[0.2222222222222222,\"#7201a8\"],[0.3333333333333333,\"#9c179e\"],[0.4444444444444444,\"#bd3786\"],[0.5555555555555556,\"#d8576b\"],[0.6666666666666666,\"#ed7953\"],[0.7777777777777778,\"#fb9f3a\"],[0.8888888888888888,\"#fdca26\"],[1.0,\"#f0f921\"]],\"sequentialminus\":[[0.0,\"#0d0887\"],[0.1111111111111111,\"#46039f\"],[0.2222222222222222,\"#7201a8\"],[0.3333333333333333,\"#9c179e\"],[0.4444444444444444,\"#bd3786\"],[0.5555555555555556,\"#d8576b\"],[0.6666666666666666,\"#ed7953\"],[0.7777777777777778,\"#fb9f3a\"],[0.8888888888888888,\"#fdca26\"],[1.0,\"#f0f921\"]]},\"colorway\":[\"#636efa\",\"#EF553B\",\"#00cc96\",\"#ab63fa\",\"#FFA15A\",\"#19d3f3\",\"#FF6692\",\"#B6E880\",\"#FF97FF\",\"#FECB52\"],\"font\":{\"color\":\"#2a3f5f\"},\"geo\":{\"bgcolor\":\"white\",\"lakecolor\":\"white\",\"landcolor\":\"#E5ECF6\",\"showlakes\":true,\"showland\":true,\"subunitcolor\":\"white\"},\"hoverlabel\":{\"align\":\"left\"},\"hovermode\":\"closest\",\"mapbox\":{\"style\":\"light\"},\"paper_bgcolor\":\"white\",\"plot_bgcolor\":\"#E5ECF6\",\"polar\":{\"angularaxis\":{\"gridcolor\":\"white\",\"linecolor\":\"white\",\"ticks\":\"\"},\"bgcolor\":\"#E5ECF6\",\"radialaxis\":{\"gridcolor\":\"white\",\"linecolor\":\"white\",\"ticks\":\"\"}},\"scene\":{\"xaxis\":{\"backgroundcolor\":\"#E5ECF6\",\"gridcolor\":\"white\",\"gridwidth\":2,\"linecolor\":\"white\",\"showbackground\":true,\"ticks\":\"\",\"zerolinecolor\":\"white\"},\"yaxis\":{\"backgroundcolor\":\"#E5ECF6\",\"gridcolor\":\"white\",\"gridwidth\":2,\"linecolor\":\"white\",\"showbackground\":true,\"ticks\":\"\",\"zerolinecolor\":\"white\"},\"zaxis\":{\"backgroundcolor\":\"#E5ECF6\",\"gridcolor\":\"white\",\"gridwidth\":2,\"linecolor\":\"white\",\"showbackground\":true,\"ticks\":\"\",\"zerolinecolor\":\"white\"}},\"shapedefaults\":{\"line\":{\"color\":\"#2a3f5f\"}},\"ternary\":{\"aaxis\":{\"gridcolor\":\"white\",\"linecolor\":\"white\",\"ticks\":\"\"},\"baxis\":{\"gridcolor\":\"white\",\"linecolor\":\"white\",\"ticks\":\"\"},\"bgcolor\":\"#E5ECF6\",\"caxis\":{\"gridcolor\":\"white\",\"linecolor\":\"white\",\"ticks\":\"\"}},\"title\":{\"x\":0.05},\"xaxis\":{\"automargin\":true,\"gridcolor\":\"white\",\"linecolor\":\"white\",\"ticks\":\"\",\"title\":{\"standoff\":15},\"zerolinecolor\":\"white\",\"zerolinewidth\":2},\"yaxis\":{\"automargin\":true,\"gridcolor\":\"white\",\"linecolor\":\"white\",\"ticks\":\"\",\"title\":{\"standoff\":15},\"zerolinecolor\":\"white\",\"zerolinewidth\":2}}},\"xaxis\":{\"anchor\":\"y\",\"domain\":[0.0,1.0],\"title\":{\"text\":\"x\"}},\"yaxis\":{\"anchor\":\"x\",\"domain\":[0.0,1.0],\"title\":{\"text\":\"y\"}},\"legend\":{\"tracegroupgap\":0},\"margin\":{\"t\":60},\"barmode\":\"relative\"},                        {\"responsive\": true}                    ).then(function(){\n",
              "                            \n",
              "var gd = document.getElementById('95d60081-ef9c-427b-9b45-4a6e10e3fec3');\n",
              "var x = new MutationObserver(function (mutations, observer) {{\n",
              "        var display = window.getComputedStyle(gd).display;\n",
              "        if (!display || display === 'none') {{\n",
              "            console.log([gd, 'removed!']);\n",
              "            Plotly.purge(gd);\n",
              "            observer.disconnect();\n",
              "        }}\n",
              "}});\n",
              "\n",
              "// Listen for the removal of the full notebook cells\n",
              "var notebookContainer = gd.closest('#notebook-container');\n",
              "if (notebookContainer) {{\n",
              "    x.observe(notebookContainer, {childList: true});\n",
              "}}\n",
              "\n",
              "// Listen for the clearing of the current output cell\n",
              "var outputEl = gd.closest('.output');\n",
              "if (outputEl) {{\n",
              "    x.observe(outputEl, {childList: true});\n",
              "}}\n",
              "\n",
              "                        })                };                            </script>        </div>\n",
              "</body>\n",
              "</html>"
            ]
          },
          "metadata": {}
        }
      ]
    },
    {
      "cell_type": "code",
      "source": [
        "import plotly.express as px\n",
        "\n",
        "fig=px.bar(x= starName, y= distance)\n",
        "fig.show()"
      ],
      "metadata": {
        "colab": {
          "base_uri": "https://localhost:8080/",
          "height": 542
        },
        "id": "TJO_FbysZvoo",
        "outputId": "44a7caee-c343-47f0-e648-bfdc68b8a6dd"
      },
      "execution_count": 8,
      "outputs": [
        {
          "output_type": "display_data",
          "data": {
            "text/html": [
              "<html>\n",
              "<head><meta charset=\"utf-8\" /></head>\n",
              "<body>\n",
              "    <div>            <script src=\"https://cdnjs.cloudflare.com/ajax/libs/mathjax/2.7.5/MathJax.js?config=TeX-AMS-MML_SVG\"></script><script type=\"text/javascript\">if (window.MathJax) {MathJax.Hub.Config({SVG: {font: \"STIX-Web\"}});}</script>                <script type=\"text/javascript\">window.PlotlyConfig = {MathJaxConfig: 'local'};</script>\n",
              "        <script src=\"https://cdn.plot.ly/plotly-2.8.3.min.js\"></script>                <div id=\"ef19be17-674e-4e77-9359-e07f758fbd42\" class=\"plotly-graph-div\" style=\"height:525px; width:100%;\"></div>            <script type=\"text/javascript\">                                    window.PLOTLYENV=window.PLOTLYENV || {};                                    if (document.getElementById(\"ef19be17-674e-4e77-9359-e07f758fbd42\")) {                    Plotly.newPlot(                        \"ef19be17-674e-4e77-9359-e07f758fbd42\",                        [{\"alignmentgroup\":\"True\",\"hovertemplate\":\"x=%{x}<br>y=%{y}<extra></extra>\",\"legendgroup\":\"\",\"marker\":{\"color\":\"#636efa\",\"pattern\":{\"shape\":\"\"}},\"name\":\"\",\"offsetgroup\":\"\",\"orientation\":\"v\",\"showlegend\":false,\"textposition\":\"auto\",\"x\":[\"Sun\",\"Sirius\",\"Canopus\",\"Alpha Centauri\",\"Arcturus\",\"Vega\",\"Capella\",\"Rigel\",\"Procyon\",\"Betelgeuse\",\"Achernar\",\"Hadar\",\"Altair\",\"Acrux\",\"Aldebaran\",\"Antares\",\"Spica\",\"Pollux\",\"Fomalhaut\",\"Deneb\",\"Mimosa\",\"Regulus\",\"Adhara\",\"Shaula\",\"Castor\",\"Gacrux\",\"Bellatrix\",\"Elnath\",\"Miaplacidus\",\"Alnilam\",\"Gamma Velorum\",\"Alnair\",\"Alioth\",\"Alnitak\",\"Dubhe\",\"Mirfak\",\"Wezen\",\"Sargas\",\"Kaus Australis\",\"Avior\",\"Alkaid\",\"Menkalinan\",\"Atria\",\"Alhena\",\"Peacock\",\"Alsephina[2]\",\"Mirzam\",\"Polaris\",\"Alphard\",\"Scheat\",\"Almaaz\",\"Rasalgethi\",\"Tau Ceti\",\"Delta Pavonis\",\"Ran\",\"V382 Carinae\",\"Eta Carinae\",\"Delta Cephei\",\"Mu Cephei\",\"Titawin\",\"Rho Cassiopeiae\",\"P Cygni\",\"VV Cephei\",\"61 Cygni\",\"R Doradus\",\"Polaris Australis\",\"R Coronae Borealis\",\"54 Piscium\",\"Mira\",\"RW Cephei\",\"Lacaille 8760\",\"V838 Monocerotis\",\"HD 140283\",\"II Pegasi\",\"VY Canis Majoris\",\"Pistol Star\",\"S Doradus\",\"UY Scuti\",\"Barnard's Star\",\"Luhman 16\",\"Proxima Centauri\",\"KIC 8462852\",\"R136a1\",\"Melnick 42\",\"WR 102\",\"VFTS 352\",\"YBP 1194\",\"Gliese 1214\",\"NML Cygni\",\"VB 10\",\"WOH G64\",\"TRAPPIST-1\",\"2MASS J0523-1403\",\"WISE 0855\\u22120714\",\"Icarus\",\"SDSS J000013.54+255418.6\\u00a0[de]\",\"2MASS J00040288-6410358\",\"2MASS J00242463-0158201\",\"2MASS J00274197+0503417\",\"2MASSW J0030300-145033\",\"2MASS J00332386-1521309\\u00a0[de]\",\"2MASS J00345157+0523050\",\"2MASS 0036+1821\",\"2MASSW J0045214+163445\",\"WISEP J004701.06+680352.1\\u00a0[fr]\",\"2MASS J00501994-3322402\\u00a0[de]\",\"2MASS J00584253-0651239\\u00a0[de]\",\"2MASSI J0103320+193536\",\"SDSSp J010752.33+004156.1\\u00a0[de]\",\"2MASSI J0117474-340325\\u00a0[de]\",\"2MASS J01415823-4633574\\u00a0[de]\",\"SDSS J015141.69+124429.6\",\"SDSS J020742.48+000056.2\\u00a0[de]\",\"2MASS J02103857-3015313\",\"2MASS J02340093-6442068\",\"2MASS J02411151-0326587\\u00a0[de]\",\"2MASS J02431371\\u22122453298\",\"LP 771-21\",\"Teegarden's star\",\"2MASS J02535980+3206373\",\"WISE J0254+0223\",\"DEN 0255-4700\",\"2MASS J03185403-3421292\\u00a0[de]\",\"2MASS J03205965+1854233\",\"2MASS J03231002-4631237\",\"SDSS J032553.17+042540.1\",\"2MASS J03264225-2102057\\u00a0[de]\",\"2MASS J03284265+2302051\\u00a0[de]\",\"2MASS J03341218-4953322\",\"LP 944-20\",\"2MASP J0345432+254023\",\"Teide 1\",\"2MASS J03510004-0052452\",\"2MASS J03552337+1133437\",\"2MASS J04151954\\u22120935066\",\"2MASS J04285096-2253227\\u00a0[de]\",\"2MASS J04351612-1606574\",\"2MASS J04362788-4114465\",\"2MASS J04390101-2353083\\u00a0[de]\",\"2MASS J04433764+0002040\",\"2MASS J04455387-3048204\\u00a0[de]\",\"2MASS J04510093-3402150\\u00a0[de]\",\"2MASS J05002100+0330501\\u00a0[de]\",\"2MASS J05012406-0010452\\u00a0[de]\",\"2MASS J05160945-0445499\\u00a0[de]\",\"2MASS J0523\\u22121403\",\"SDSS J053951.99-005902.0\",\"LSR 0602+3910\\u00a0[de]\",\"2MASS J06085283-2753583\",\"2MASS J06244595-4521548\\u00a0[de]\",\"2MASS J06411840-4322329\\u00a0[de]\",\"DENIS-P J0652197-253450\\u00a0[de]\",\"2MASS J07075327-4900503\",\"UGPS J072227.51-054031.2\",\"2MASSI J0727182+171001\\u00a0[de]\",\"2MASS J07290002-3954043\\u00a0[de]\",\"SDSS J074201.41+205520.5\\u00a0[de]\",\"DENIS-P J0751164-253043\\u00a0[de]\",\"2MASS J07522390+1612157\",\"DENIS J081730.0-615520\",\"2MASS J08251968+2115521\\u00a0[de]\",\"SDSSp J083008.12+482847.4\\u00a0[de]\",\"LHS 2021\",\"SDSS J083048.80+012831.1\\u00a0[de]\",\"2MASSI J0835425-081923\\u00a0[de]\",\"2MASSI J0847287-153237\\u00a0[de]\",\"2MASS J08533619-0329321\",\"2MASSI J0859254-194926\\u00a0[de]\",\"2MASSI J0937347+293142\",\"2MASS 0939\\u22122448\",\"2MASS J09490860-1545485\\u00a0[de]\",\"2MASS J10073369-4555147\",\"2MASSI J1010148-040649\\u00a0[de]\",\"2MASS J10224821+5825453\\u00a0[de]\",\"2MASSW J1036530-344138\\u00a0[de]\",\"2MASS J1047538+212423\\u00a0[de]\",\"DEN 1048-3956\",\"Luhman 16B\",\"Luhman 16A\",\"DENIS-P J1058.7\\u22121548\",\"TWA 28\",\"Cha 110913-773444\",\"SDSS J111010.01+011613.1\",\"2MASS J11145133\\u22122618235\",\"TWA 26\",\"2MASS J11544223-3400390\\u00a0[de]\",\"2MASSW J1155395-372735\\u00a0[de]\",\"2MASS J12074836-3900043\",\"2MASSI J1217110-031113\\u00a0[de]\",\"2M 1237+6526\",\"TWA 29\",\"SDSSp J125453.90-012247.4\\u00a0[de]\",\"Kelu-1A\",\"Kelu-1B\",\"2MASS J13204427+0409045\",\"SDSSp J132629.82-003831.5\\u00a0[de]\",\"SDSSp J134646.45-003150.4\\u00a0[de]\",\"2MASS J13595510-4034582\",\"ULAS J141623.94+134836.3\",\"SDSS J141659.78+500626.4\\u00a0[de]\",\"DENIS-P J142527.97-365023.4\\u00a0[de]\",\"LHS 2924\",\"2MASS J14392837+1929150\",\"LSPM J1440+1339\",\"2MASS J14482563+1031590\\u00a0[de]\",\"CFBDSIR 1458+10A\",\"CFBDSIR 1458+10B\",\"TVLM 513-46546\",\"2MASS 1503+2525\",\"CFBDS J150411+102717\",\"2MASSW J1506544+132106\\u00a0[de]\",\"2MASS 1507\\u22121627\",\"TVLM 868-110639\",\"2MASSW J1515008+484742\\u00a0[de]\",\"2MASSI J1526140+204341\\u00a0[de]\",\"DENIS-P J153941.96-052042.4\\u00a0[de]\",\"2MASS J15462718-3325111\\u00a0[de]\",\"2MASSW J1552591+294849\\u00a0[de]\",\"2MASSW J1555157-095605\\u00a0[de]\",\"2MASS J16150413+1340079\\u00a0[de]\",\"SDSSp J162414.37+002915.6\\u00a0[de]\",\"2MASS J16262034+3925190\\u00a0[de]\",\"2MASSW J1632291+190441\\u00a0[de]\",\"WISEPA J164715.59+563208.2\",\"LSPM J1658+7027\\u00a0[de]\",\"2MASSI J1726000+153819\",\"SDSSp J175032.96+175903.9\",\"2MASS J18283572-4849046\",\"LSR J1835+3259\",\"2MASSW J1841086+311727\",\"2MASS J18432213+4040209\",\"2MASS J20004841-7523070\",\"SDSS J204749.61-071818.3\",\"2MASSI J2057540-025230\",\"2MASSI J2104149-103736\",\"PSO J318.5\\u221222\",\"HB 2124-4228\",\"2MASS J21392676+0220226\",\"2MASS J21481628+4003593\",\"2MASSW J2206450-421721\",\"2MASSW J2208136+292121\",\"2MASSW J2224438-015852\",\"2MASS J22282889-4310262\",\"2MASS J22373255+3922398\",\"2MASSW J2244316+204343\",\"2MASS J23224684-3133231\",\"2MASS J23225299-6151275\",\"2MASS J23515044-2537367\",\"2MASSI J2356547-155310\",\"WISE 0410+1502\",\"WISE 0458+6434A\",\"WISE 0458+6434B\",\"WISE 1405+5534\"],\"xaxis\":\"x\",\"y\":[\"0.000015813\",\"8.6\",\"310\",\"4.4\",\"37\",\"25\",\"43\",\"860\",\"11.4\",\"640\",\"144\",\"390\",\"17\",\"320\",\"65\",\"600\",\"260\",\"34\",\"25\",\"2,600\",\"350\",\"77\",\"430\",\"700\",\"52\",\"88\",\"240\",\"130\",\"110\",\"2,000\",\"1,100\",\"101\",\"81\",\"1050\",\"120\",\"590\",\"1,600\",\"270\",\"140\",\"630\",\"104\",\"81\",\"390\",\"109\",\"180\",\"80\",\"500\",\"430\",\"180\",\"196\",\"653\",\"360\",\"11.9\",\"19.92\",\"10.48\",\"8,900\",\"7,500\",\"887\",\"6,000\",\"44.25\",\"8,154\",\"5,545\",\"4,900\",\"11.41\",\"178\",\"281\",\"4,566\",\"36.1\",\"300\",\"14,000\",\"12.87\",\"19,896\",\"190\",\"130\",\"3,900\",\"25,000\",\"1,69,000\",\"5,100\",\"5.98\",\"6.52\",\"4.25\",\"1,470\",\"1,63,000\",\"1,63,000\",\"18,134\",\"1,64,000\",\"2,772\",\"47.5\",\"5,251\",\"18.72\",\"1,63,000\",\"39.6\",\"40.3\",\"7.27\",\"14,40,00,00,000\",\"46.1\",\"192\",\"37.7\",\"236\",\"87.2\",\"131\",\"31\",\"28.6\",\"57\",\"40\",\"34\",\"96\",\"70\",\"51\",\"163\",\"130\",\"70\",\"111\",\"101\",\"155\",\"152\",\"35\",\"53\",\"12.578\",\"184\",\"24\",\"16.2\",\"45\",\"47\",\"192\",\"59\",\"80\",\"98\",\"27\",\"20.9\",\"88\",\"380\",\"48\",\"29.8\",\"18.6\",\"85\",\"34\",\"142\",\"29.5\",\"82\",\"42\",\"69\",\"44\",\"64\",\"73\",\"40\",\"41.62\",\"34.6\",\"102\",\"39\",\"65\",\"51\",\"60\",\"13.4\",\"29.6\",\"25.8\",\"49\",\"55\",\"60\",\"16.1\",\"35\",\"43\",\"55\",\"77\",\"23.53\",\"43\",\"27.6\",\"50\",\"20\",\"17.4\",\"59\",\"46\",\"55\",\"60\",\"53\",\"34.4\",\"13.15\",\"6.516\",\"6.516\",\"49\",\"180\",\"163\",\"63\",\"18.2\",\"137\",\"129\",\"31\",\"217\",\"36\",\"45.6\",\"262\",\"38\",\"61\",\"61\",\"101\",\"65\",\"48\",\"51\",\"29.7\",\"149\",\"38\",\"38.5\",\"47\",\"72\",\"47\",\"104\",\"104\",\"35.1\",\"20.7\",\"71\",\"46\",\"23.9\",\"53\",\"34\",\"67\",\"51\",\"37\",\"68\",\"44\",\"48\",\"36\",\"110\",\"50\",\"28\",\"60\",\"114\",\"90\",\"39\",\"18.5\",\"138\",\"46\",\"105\",\"65\",\"47\",\"62\",\"80\",\"113\",\"32.1\",\"26.3\",\"93\",\"154\",\"38\",\"35\",\"64\",\"56\",\"56\",\"148\",\"67\",\"74\",\"20\",\"35.9\",\"35.9\",\"25.3\"],\"yaxis\":\"y\",\"type\":\"bar\"}],                        {\"template\":{\"data\":{\"bar\":[{\"error_x\":{\"color\":\"#2a3f5f\"},\"error_y\":{\"color\":\"#2a3f5f\"},\"marker\":{\"line\":{\"color\":\"#E5ECF6\",\"width\":0.5},\"pattern\":{\"fillmode\":\"overlay\",\"size\":10,\"solidity\":0.2}},\"type\":\"bar\"}],\"barpolar\":[{\"marker\":{\"line\":{\"color\":\"#E5ECF6\",\"width\":0.5},\"pattern\":{\"fillmode\":\"overlay\",\"size\":10,\"solidity\":0.2}},\"type\":\"barpolar\"}],\"carpet\":[{\"aaxis\":{\"endlinecolor\":\"#2a3f5f\",\"gridcolor\":\"white\",\"linecolor\":\"white\",\"minorgridcolor\":\"white\",\"startlinecolor\":\"#2a3f5f\"},\"baxis\":{\"endlinecolor\":\"#2a3f5f\",\"gridcolor\":\"white\",\"linecolor\":\"white\",\"minorgridcolor\":\"white\",\"startlinecolor\":\"#2a3f5f\"},\"type\":\"carpet\"}],\"choropleth\":[{\"colorbar\":{\"outlinewidth\":0,\"ticks\":\"\"},\"type\":\"choropleth\"}],\"contour\":[{\"colorbar\":{\"outlinewidth\":0,\"ticks\":\"\"},\"colorscale\":[[0.0,\"#0d0887\"],[0.1111111111111111,\"#46039f\"],[0.2222222222222222,\"#7201a8\"],[0.3333333333333333,\"#9c179e\"],[0.4444444444444444,\"#bd3786\"],[0.5555555555555556,\"#d8576b\"],[0.6666666666666666,\"#ed7953\"],[0.7777777777777778,\"#fb9f3a\"],[0.8888888888888888,\"#fdca26\"],[1.0,\"#f0f921\"]],\"type\":\"contour\"}],\"contourcarpet\":[{\"colorbar\":{\"outlinewidth\":0,\"ticks\":\"\"},\"type\":\"contourcarpet\"}],\"heatmap\":[{\"colorbar\":{\"outlinewidth\":0,\"ticks\":\"\"},\"colorscale\":[[0.0,\"#0d0887\"],[0.1111111111111111,\"#46039f\"],[0.2222222222222222,\"#7201a8\"],[0.3333333333333333,\"#9c179e\"],[0.4444444444444444,\"#bd3786\"],[0.5555555555555556,\"#d8576b\"],[0.6666666666666666,\"#ed7953\"],[0.7777777777777778,\"#fb9f3a\"],[0.8888888888888888,\"#fdca26\"],[1.0,\"#f0f921\"]],\"type\":\"heatmap\"}],\"heatmapgl\":[{\"colorbar\":{\"outlinewidth\":0,\"ticks\":\"\"},\"colorscale\":[[0.0,\"#0d0887\"],[0.1111111111111111,\"#46039f\"],[0.2222222222222222,\"#7201a8\"],[0.3333333333333333,\"#9c179e\"],[0.4444444444444444,\"#bd3786\"],[0.5555555555555556,\"#d8576b\"],[0.6666666666666666,\"#ed7953\"],[0.7777777777777778,\"#fb9f3a\"],[0.8888888888888888,\"#fdca26\"],[1.0,\"#f0f921\"]],\"type\":\"heatmapgl\"}],\"histogram\":[{\"marker\":{\"pattern\":{\"fillmode\":\"overlay\",\"size\":10,\"solidity\":0.2}},\"type\":\"histogram\"}],\"histogram2d\":[{\"colorbar\":{\"outlinewidth\":0,\"ticks\":\"\"},\"colorscale\":[[0.0,\"#0d0887\"],[0.1111111111111111,\"#46039f\"],[0.2222222222222222,\"#7201a8\"],[0.3333333333333333,\"#9c179e\"],[0.4444444444444444,\"#bd3786\"],[0.5555555555555556,\"#d8576b\"],[0.6666666666666666,\"#ed7953\"],[0.7777777777777778,\"#fb9f3a\"],[0.8888888888888888,\"#fdca26\"],[1.0,\"#f0f921\"]],\"type\":\"histogram2d\"}],\"histogram2dcontour\":[{\"colorbar\":{\"outlinewidth\":0,\"ticks\":\"\"},\"colorscale\":[[0.0,\"#0d0887\"],[0.1111111111111111,\"#46039f\"],[0.2222222222222222,\"#7201a8\"],[0.3333333333333333,\"#9c179e\"],[0.4444444444444444,\"#bd3786\"],[0.5555555555555556,\"#d8576b\"],[0.6666666666666666,\"#ed7953\"],[0.7777777777777778,\"#fb9f3a\"],[0.8888888888888888,\"#fdca26\"],[1.0,\"#f0f921\"]],\"type\":\"histogram2dcontour\"}],\"mesh3d\":[{\"colorbar\":{\"outlinewidth\":0,\"ticks\":\"\"},\"type\":\"mesh3d\"}],\"parcoords\":[{\"line\":{\"colorbar\":{\"outlinewidth\":0,\"ticks\":\"\"}},\"type\":\"parcoords\"}],\"pie\":[{\"automargin\":true,\"type\":\"pie\"}],\"scatter\":[{\"marker\":{\"colorbar\":{\"outlinewidth\":0,\"ticks\":\"\"}},\"type\":\"scatter\"}],\"scatter3d\":[{\"line\":{\"colorbar\":{\"outlinewidth\":0,\"ticks\":\"\"}},\"marker\":{\"colorbar\":{\"outlinewidth\":0,\"ticks\":\"\"}},\"type\":\"scatter3d\"}],\"scattercarpet\":[{\"marker\":{\"colorbar\":{\"outlinewidth\":0,\"ticks\":\"\"}},\"type\":\"scattercarpet\"}],\"scattergeo\":[{\"marker\":{\"colorbar\":{\"outlinewidth\":0,\"ticks\":\"\"}},\"type\":\"scattergeo\"}],\"scattergl\":[{\"marker\":{\"colorbar\":{\"outlinewidth\":0,\"ticks\":\"\"}},\"type\":\"scattergl\"}],\"scattermapbox\":[{\"marker\":{\"colorbar\":{\"outlinewidth\":0,\"ticks\":\"\"}},\"type\":\"scattermapbox\"}],\"scatterpolar\":[{\"marker\":{\"colorbar\":{\"outlinewidth\":0,\"ticks\":\"\"}},\"type\":\"scatterpolar\"}],\"scatterpolargl\":[{\"marker\":{\"colorbar\":{\"outlinewidth\":0,\"ticks\":\"\"}},\"type\":\"scatterpolargl\"}],\"scatterternary\":[{\"marker\":{\"colorbar\":{\"outlinewidth\":0,\"ticks\":\"\"}},\"type\":\"scatterternary\"}],\"surface\":[{\"colorbar\":{\"outlinewidth\":0,\"ticks\":\"\"},\"colorscale\":[[0.0,\"#0d0887\"],[0.1111111111111111,\"#46039f\"],[0.2222222222222222,\"#7201a8\"],[0.3333333333333333,\"#9c179e\"],[0.4444444444444444,\"#bd3786\"],[0.5555555555555556,\"#d8576b\"],[0.6666666666666666,\"#ed7953\"],[0.7777777777777778,\"#fb9f3a\"],[0.8888888888888888,\"#fdca26\"],[1.0,\"#f0f921\"]],\"type\":\"surface\"}],\"table\":[{\"cells\":{\"fill\":{\"color\":\"#EBF0F8\"},\"line\":{\"color\":\"white\"}},\"header\":{\"fill\":{\"color\":\"#C8D4E3\"},\"line\":{\"color\":\"white\"}},\"type\":\"table\"}]},\"layout\":{\"annotationdefaults\":{\"arrowcolor\":\"#2a3f5f\",\"arrowhead\":0,\"arrowwidth\":1},\"autotypenumbers\":\"strict\",\"coloraxis\":{\"colorbar\":{\"outlinewidth\":0,\"ticks\":\"\"}},\"colorscale\":{\"diverging\":[[0,\"#8e0152\"],[0.1,\"#c51b7d\"],[0.2,\"#de77ae\"],[0.3,\"#f1b6da\"],[0.4,\"#fde0ef\"],[0.5,\"#f7f7f7\"],[0.6,\"#e6f5d0\"],[0.7,\"#b8e186\"],[0.8,\"#7fbc41\"],[0.9,\"#4d9221\"],[1,\"#276419\"]],\"sequential\":[[0.0,\"#0d0887\"],[0.1111111111111111,\"#46039f\"],[0.2222222222222222,\"#7201a8\"],[0.3333333333333333,\"#9c179e\"],[0.4444444444444444,\"#bd3786\"],[0.5555555555555556,\"#d8576b\"],[0.6666666666666666,\"#ed7953\"],[0.7777777777777778,\"#fb9f3a\"],[0.8888888888888888,\"#fdca26\"],[1.0,\"#f0f921\"]],\"sequentialminus\":[[0.0,\"#0d0887\"],[0.1111111111111111,\"#46039f\"],[0.2222222222222222,\"#7201a8\"],[0.3333333333333333,\"#9c179e\"],[0.4444444444444444,\"#bd3786\"],[0.5555555555555556,\"#d8576b\"],[0.6666666666666666,\"#ed7953\"],[0.7777777777777778,\"#fb9f3a\"],[0.8888888888888888,\"#fdca26\"],[1.0,\"#f0f921\"]]},\"colorway\":[\"#636efa\",\"#EF553B\",\"#00cc96\",\"#ab63fa\",\"#FFA15A\",\"#19d3f3\",\"#FF6692\",\"#B6E880\",\"#FF97FF\",\"#FECB52\"],\"font\":{\"color\":\"#2a3f5f\"},\"geo\":{\"bgcolor\":\"white\",\"lakecolor\":\"white\",\"landcolor\":\"#E5ECF6\",\"showlakes\":true,\"showland\":true,\"subunitcolor\":\"white\"},\"hoverlabel\":{\"align\":\"left\"},\"hovermode\":\"closest\",\"mapbox\":{\"style\":\"light\"},\"paper_bgcolor\":\"white\",\"plot_bgcolor\":\"#E5ECF6\",\"polar\":{\"angularaxis\":{\"gridcolor\":\"white\",\"linecolor\":\"white\",\"ticks\":\"\"},\"bgcolor\":\"#E5ECF6\",\"radialaxis\":{\"gridcolor\":\"white\",\"linecolor\":\"white\",\"ticks\":\"\"}},\"scene\":{\"xaxis\":{\"backgroundcolor\":\"#E5ECF6\",\"gridcolor\":\"white\",\"gridwidth\":2,\"linecolor\":\"white\",\"showbackground\":true,\"ticks\":\"\",\"zerolinecolor\":\"white\"},\"yaxis\":{\"backgroundcolor\":\"#E5ECF6\",\"gridcolor\":\"white\",\"gridwidth\":2,\"linecolor\":\"white\",\"showbackground\":true,\"ticks\":\"\",\"zerolinecolor\":\"white\"},\"zaxis\":{\"backgroundcolor\":\"#E5ECF6\",\"gridcolor\":\"white\",\"gridwidth\":2,\"linecolor\":\"white\",\"showbackground\":true,\"ticks\":\"\",\"zerolinecolor\":\"white\"}},\"shapedefaults\":{\"line\":{\"color\":\"#2a3f5f\"}},\"ternary\":{\"aaxis\":{\"gridcolor\":\"white\",\"linecolor\":\"white\",\"ticks\":\"\"},\"baxis\":{\"gridcolor\":\"white\",\"linecolor\":\"white\",\"ticks\":\"\"},\"bgcolor\":\"#E5ECF6\",\"caxis\":{\"gridcolor\":\"white\",\"linecolor\":\"white\",\"ticks\":\"\"}},\"title\":{\"x\":0.05},\"xaxis\":{\"automargin\":true,\"gridcolor\":\"white\",\"linecolor\":\"white\",\"ticks\":\"\",\"title\":{\"standoff\":15},\"zerolinecolor\":\"white\",\"zerolinewidth\":2},\"yaxis\":{\"automargin\":true,\"gridcolor\":\"white\",\"linecolor\":\"white\",\"ticks\":\"\",\"title\":{\"standoff\":15},\"zerolinecolor\":\"white\",\"zerolinewidth\":2}}},\"xaxis\":{\"anchor\":\"y\",\"domain\":[0.0,1.0],\"title\":{\"text\":\"x\"}},\"yaxis\":{\"anchor\":\"x\",\"domain\":[0.0,1.0],\"title\":{\"text\":\"y\"}},\"legend\":{\"tracegroupgap\":0},\"margin\":{\"t\":60},\"barmode\":\"relative\"},                        {\"responsive\": true}                    ).then(function(){\n",
              "                            \n",
              "var gd = document.getElementById('ef19be17-674e-4e77-9359-e07f758fbd42');\n",
              "var x = new MutationObserver(function (mutations, observer) {{\n",
              "        var display = window.getComputedStyle(gd).display;\n",
              "        if (!display || display === 'none') {{\n",
              "            console.log([gd, 'removed!']);\n",
              "            Plotly.purge(gd);\n",
              "            observer.disconnect();\n",
              "        }}\n",
              "}});\n",
              "\n",
              "// Listen for the removal of the full notebook cells\n",
              "var notebookContainer = gd.closest('#notebook-container');\n",
              "if (notebookContainer) {{\n",
              "    x.observe(notebookContainer, {childList: true});\n",
              "}}\n",
              "\n",
              "// Listen for the clearing of the current output cell\n",
              "var outputEl = gd.closest('.output');\n",
              "if (outputEl) {{\n",
              "    x.observe(outputEl, {childList: true});\n",
              "}}\n",
              "\n",
              "                        })                };                            </script>        </div>\n",
              "</body>\n",
              "</html>"
            ]
          },
          "metadata": {}
        }
      ]
    },
    {
      "cell_type": "code",
      "source": [
        "import plotly.express as px\n",
        "\n",
        "fig=px.bar(x= starName, y= gravity)\n",
        "fig.show()"
      ],
      "metadata": {
        "colab": {
          "base_uri": "https://localhost:8080/",
          "height": 542
        },
        "id": "liiBpYBxZyL1",
        "outputId": "5ca8b489-84d5-42b1-b5ce-08a9204f27fa"
      },
      "execution_count": 9,
      "outputs": [
        {
          "output_type": "display_data",
          "data": {
            "text/html": [
              "<html>\n",
              "<head><meta charset=\"utf-8\" /></head>\n",
              "<body>\n",
              "    <div>            <script src=\"https://cdnjs.cloudflare.com/ajax/libs/mathjax/2.7.5/MathJax.js?config=TeX-AMS-MML_SVG\"></script><script type=\"text/javascript\">if (window.MathJax) {MathJax.Hub.Config({SVG: {font: \"STIX-Web\"}});}</script>                <script type=\"text/javascript\">window.PlotlyConfig = {MathJaxConfig: 'local'};</script>\n",
              "        <script src=\"https://cdn.plot.ly/plotly-2.8.3.min.js\"></script>                <div id=\"1b771e71-c307-4e9e-866e-6498e5c2deb6\" class=\"plotly-graph-div\" style=\"height:525px; width:100%;\"></div>            <script type=\"text/javascript\">                                    window.PLOTLYENV=window.PLOTLYENV || {};                                    if (document.getElementById(\"1b771e71-c307-4e9e-866e-6498e5c2deb6\")) {                    Plotly.newPlot(                        \"1b771e71-c307-4e9e-866e-6498e5c2deb6\",                        [{\"alignmentgroup\":\"True\",\"hovertemplate\":\"x=%{x}<br>y=%{y}<extra></extra>\",\"legendgroup\":\"\",\"marker\":{\"color\":\"#636efa\",\"pattern\":{\"shape\":\"\"}},\"name\":\"\",\"offsetgroup\":\"\",\"orientation\":\"v\",\"showlegend\":false,\"textposition\":\"auto\",\"x\":[\"Sun\",\"Sirius\",\"Canopus\",\"Alpha Centauri\",\"Arcturus\",\"Vega\",\"Capella\",\"Rigel\",\"Procyon\",\"Betelgeuse\",\"Achernar\",\"Hadar\",\"Altair\",\"Acrux\",\"Aldebaran\",\"Antares\",\"Spica\",\"Pollux\",\"Fomalhaut\",\"Deneb\",\"Mimosa\",\"Regulus\",\"Adhara\",\"Shaula\",\"Castor\",\"Gacrux\",\"Bellatrix\",\"Elnath\",\"Miaplacidus\",\"Alnilam\",\"Gamma Velorum\",\"Alnair\",\"Alioth\",\"Alnitak\",\"Dubhe\",\"Mirfak\",\"Wezen\",\"Sargas\",\"Kaus Australis\",\"Avior\",\"Alkaid\",\"Menkalinan\",\"Atria\",\"Alhena\",\"Peacock\",\"Alsephina[2]\",\"Mirzam\",\"Polaris\",\"Alphard\",\"Scheat\",\"Almaaz\",\"Rasalgethi\",\"Tau Ceti\",\"Delta Pavonis\",\"Ran\",\"V382 Carinae\",\"Eta Carinae\",\"Delta Cephei\",\"Mu Cephei\",\"Titawin\",\"Rho Cassiopeiae\",\"P Cygni\",\"VV Cephei\",\"61 Cygni\",\"R Doradus\",\"Polaris Australis\",\"R Coronae Borealis\",\"54 Piscium\",\"Mira\",\"RW Cephei\",\"Lacaille 8760\",\"V838 Monocerotis\",\"HD 140283\",\"II Pegasi\",\"VY Canis Majoris\",\"Pistol Star\",\"S Doradus\",\"UY Scuti\",\"Barnard's Star\",\"Luhman 16\",\"Proxima Centauri\",\"KIC 8462852\",\"R136a1\",\"Melnick 42\",\"WR 102\",\"VFTS 352\",\"YBP 1194\",\"Gliese 1214\",\"NML Cygni\",\"VB 10\",\"WOH G64\",\"TRAPPIST-1\",\"2MASS J0523-1403\",\"WISE 0855\\u22120714\",\"Icarus\",\"SDSS J000013.54+255418.6\\u00a0[de]\",\"2MASS J00040288-6410358\",\"2MASS J00242463-0158201\",\"2MASS J00274197+0503417\",\"2MASSW J0030300-145033\",\"2MASS J00332386-1521309\\u00a0[de]\",\"2MASS J00345157+0523050\",\"2MASS 0036+1821\",\"2MASSW J0045214+163445\",\"WISEP J004701.06+680352.1\\u00a0[fr]\",\"2MASS J00501994-3322402\\u00a0[de]\",\"2MASS J00584253-0651239\\u00a0[de]\",\"2MASSI J0103320+193536\",\"SDSSp J010752.33+004156.1\\u00a0[de]\",\"2MASSI J0117474-340325\\u00a0[de]\",\"2MASS J01415823-4633574\\u00a0[de]\",\"SDSS J015141.69+124429.6\",\"SDSS J020742.48+000056.2\\u00a0[de]\",\"2MASS J02103857-3015313\",\"2MASS J02340093-6442068\",\"2MASS J02411151-0326587\\u00a0[de]\",\"2MASS J02431371\\u22122453298\",\"LP 771-21\",\"Teegarden's star\",\"2MASS J02535980+3206373\",\"WISE J0254+0223\",\"DEN 0255-4700\",\"2MASS J03185403-3421292\\u00a0[de]\",\"2MASS J03205965+1854233\",\"2MASS J03231002-4631237\",\"SDSS J032553.17+042540.1\",\"2MASS J03264225-2102057\\u00a0[de]\",\"2MASS J03284265+2302051\\u00a0[de]\",\"2MASS J03341218-4953322\",\"LP 944-20\",\"2MASP J0345432+254023\",\"Teide 1\",\"2MASS J03510004-0052452\",\"2MASS J03552337+1133437\",\"2MASS J04151954\\u22120935066\",\"2MASS J04285096-2253227\\u00a0[de]\",\"2MASS J04351612-1606574\",\"2MASS J04362788-4114465\",\"2MASS J04390101-2353083\\u00a0[de]\",\"2MASS J04433764+0002040\",\"2MASS J04455387-3048204\\u00a0[de]\",\"2MASS J04510093-3402150\\u00a0[de]\",\"2MASS J05002100+0330501\\u00a0[de]\",\"2MASS J05012406-0010452\\u00a0[de]\",\"2MASS J05160945-0445499\\u00a0[de]\",\"2MASS J0523\\u22121403\",\"SDSS J053951.99-005902.0\",\"LSR 0602+3910\\u00a0[de]\",\"2MASS J06085283-2753583\",\"2MASS J06244595-4521548\\u00a0[de]\",\"2MASS J06411840-4322329\\u00a0[de]\",\"DENIS-P J0652197-253450\\u00a0[de]\",\"2MASS J07075327-4900503\",\"UGPS J072227.51-054031.2\",\"2MASSI J0727182+171001\\u00a0[de]\",\"2MASS J07290002-3954043\\u00a0[de]\",\"SDSS J074201.41+205520.5\\u00a0[de]\",\"DENIS-P J0751164-253043\\u00a0[de]\",\"2MASS J07522390+1612157\",\"DENIS J081730.0-615520\",\"2MASS J08251968+2115521\\u00a0[de]\",\"SDSSp J083008.12+482847.4\\u00a0[de]\",\"LHS 2021\",\"SDSS J083048.80+012831.1\\u00a0[de]\",\"2MASSI J0835425-081923\\u00a0[de]\",\"2MASSI J0847287-153237\\u00a0[de]\",\"2MASS J08533619-0329321\",\"2MASSI J0859254-194926\\u00a0[de]\",\"2MASSI J0937347+293142\",\"2MASS 0939\\u22122448\",\"2MASS J09490860-1545485\\u00a0[de]\",\"2MASS J10073369-4555147\",\"2MASSI J1010148-040649\\u00a0[de]\",\"2MASS J10224821+5825453\\u00a0[de]\",\"2MASSW J1036530-344138\\u00a0[de]\",\"2MASS J1047538+212423\\u00a0[de]\",\"DEN 1048-3956\",\"Luhman 16B\",\"Luhman 16A\",\"DENIS-P J1058.7\\u22121548\",\"TWA 28\",\"Cha 110913-773444\",\"SDSS J111010.01+011613.1\",\"2MASS J11145133\\u22122618235\",\"TWA 26\",\"2MASS J11544223-3400390\\u00a0[de]\",\"2MASSW J1155395-372735\\u00a0[de]\",\"2MASS J12074836-3900043\",\"2MASSI J1217110-031113\\u00a0[de]\",\"2M 1237+6526\",\"TWA 29\",\"SDSSp J125453.90-012247.4\\u00a0[de]\",\"Kelu-1A\",\"Kelu-1B\",\"2MASS J13204427+0409045\",\"SDSSp J132629.82-003831.5\\u00a0[de]\",\"SDSSp J134646.45-003150.4\\u00a0[de]\",\"2MASS J13595510-4034582\",\"ULAS J141623.94+134836.3\",\"SDSS J141659.78+500626.4\\u00a0[de]\",\"DENIS-P J142527.97-365023.4\\u00a0[de]\",\"LHS 2924\",\"2MASS J14392837+1929150\",\"LSPM J1440+1339\",\"2MASS J14482563+1031590\\u00a0[de]\",\"CFBDSIR 1458+10A\",\"CFBDSIR 1458+10B\",\"TVLM 513-46546\",\"2MASS 1503+2525\",\"CFBDS J150411+102717\",\"2MASSW J1506544+132106\\u00a0[de]\",\"2MASS 1507\\u22121627\",\"TVLM 868-110639\",\"2MASSW J1515008+484742\\u00a0[de]\",\"2MASSI J1526140+204341\\u00a0[de]\",\"DENIS-P J153941.96-052042.4\\u00a0[de]\",\"2MASS J15462718-3325111\\u00a0[de]\",\"2MASSW J1552591+294849\\u00a0[de]\",\"2MASSW J1555157-095605\\u00a0[de]\",\"2MASS J16150413+1340079\\u00a0[de]\",\"SDSSp J162414.37+002915.6\\u00a0[de]\",\"2MASS J16262034+3925190\\u00a0[de]\",\"2MASSW J1632291+190441\\u00a0[de]\",\"WISEPA J164715.59+563208.2\",\"LSPM J1658+7027\\u00a0[de]\",\"2MASSI J1726000+153819\",\"SDSSp J175032.96+175903.9\",\"2MASS J18283572-4849046\",\"LSR J1835+3259\",\"2MASSW J1841086+311727\",\"2MASS J18432213+4040209\",\"2MASS J20004841-7523070\",\"SDSS J204749.61-071818.3\",\"2MASSI J2057540-025230\",\"2MASSI J2104149-103736\",\"PSO J318.5\\u221222\",\"HB 2124-4228\",\"2MASS J21392676+0220226\",\"2MASS J21481628+4003593\",\"2MASSW J2206450-421721\",\"2MASSW J2208136+292121\",\"2MASSW J2224438-015852\",\"2MASS J22282889-4310262\",\"2MASS J22373255+3922398\",\"2MASSW J2244316+204343\",\"2MASS J23224684-3133231\",\"2MASS J23225299-6151275\",\"2MASS J23515044-2537367\",\"2MASSI J2356547-155310\",\"WISE 0410+1502\",\"WISE 0458+6434A\",\"WISE 0458+6434B\",\"WISE 1405+5534\"],\"xaxis\":\"x\",\"y\":[274.2691614595739,196.971799550325,0.8161153386021839,209.51116500384123,0.4462959727892475,82.76984296448046,4.952082081908975,1.01332978543217,113.9622554541166,0.0060779869575528,21.2464259657665,38.937617567949246,152.37175636642996,62.32603088337749,0.21250193294905,0.007117711802584,56.18003500809,6.729227876719916,160.8368539423427,0.126455727334609,62.19255361895101,108.45190567600218,17.491655705329972,51.354633796020416,133.3252868206262,0.0583055190177665,70.11637302474244,77.74069202368877,20.75999275753696,4.975404289516081,68.56729036489348,94.90282403445464,45.08960137373948,22.62720582041485,1.2951599291146547,0.5041712526830403,0.1165643936203189,2.3126245862715558,20.75999275753696,0.1460605001855719,144.72680665254333,85.43097080483021,0.2268294104698744,70.51915997124031,70.23385645015132,78.26943965552645,37.02633679704249,0.973736667903813,0.3291229937514887,0.0638188630543053,0.2098998684639596,0.0097953271949847,269.29967110479345,182.61269753187165,410.7025427261698,0.0233197288944265,0.0353366326650751,0.6232603088337749,0.0055737267989549,159.02202111653529,0.0094280024251728,1.4245281931764575,0.0088741310907808,434.14192553949175,0.0024707820499939,31.17675417660804,0.0322669601717145,235.9037604224493,0.0024041124452263,0.0028429856016179,632.685493563031,0.000677207806073,279.8664912852796,18.98056480689093,0.0023123267927061,0.2678409779878652,0.0455849021816466,0.0033680700499399,959.9420651085088,27426.9161459574,1462.7688611177275,157.10819615734286,77.67388361648091,116.4324060911917,34261.104981800825,75.29335961731135,282.6363157577489,995.0808579032164,0.0037987418484705,2057.0187109468043,0.0021427278239029,1695.1357895765334,2595.841171196618,111.25033590842646,226272.0582041485,1214.200056936461,177.29553270309606,1648.5172507306947,370.6432628229708,1393.9943359838123,351.5971318717636,1178.4549471797166,1178.4549471797166,217.2787267524544,176.041046716483,1122.3380449330632,351.5971318717636,1342.3649161325598,1342.3649161325598,188.93802326300383,191.292368446984,1238.4366334263518,1238.4366334263518,158.86484308965376,188.93802326300383,336.7014134799189,834.7625391438166,1657.9311541328584,1229.7078510792417,446.40140770557866,446.40140770557866,2107.9772483852794,1291.1360646359838,1649.7053854867902,206.9336226190817,1236.1885136462176,264.0615700747245,1393.9943359838123,1673.3068242582376,885.0548491944393,1664.073567827919,95.43298113794582,1567.8775101260333,284.5781383444831,824.1256757641451,1669.384557701969,1561.630600439113,249.14464404913377,1264.7863490311677,172.14803783504922,1586.7166344045677,0.0049737958672025,1586.7166344045677,273.38867657214803,1238.4366334263518,1652.6678012497337,1482.5402334740254,349.1718362013974,413.1893345369554,1416.5667330925376,1628.363862996061,1686.5610484742424,1682.5866846122526,671.1824580662799,1150.39649605639,1038.1626915630836,1206.513398303043,1659.2174251037488,0.0107769944671051,1234.5718494263697,1342.3649161325598,1214.200056936461,1649.7053854867902,1237.470248457338,1537.1317395794251,1586.7166344045677,1667.4106478888943,1290.7354962813076,1178.4549471797166,879.0673874817548,1318.174829878469,1234.5718494263697,1316.5502062069338,336.7014134799189,1291.1360646359838,1178.4549471797166,1667.4106478888943,1024.6782379282668,972.157530146902,1586.7166344045677,156.25218516002334,61.21591953721324,145.11708292998327,887.7503956324381,153.6721947060209,407.6980241178403,1586.7166344045677,144.1372066665686,1178.4549471797166,1150.39649605639,0.0793358317202283,1213.291366504429,1626.3267253144477,1497.253175686317,1628.363862996061,1343.8354958456157,1234.5718494263697,1561.9241869919963,860.8488684920613,1492.4542366510664,298.80704526170723,1676.9544351685863,1682.5866846122526,1610.6949805497954,1492.4542366510664,122.30940954396388,132.03078503736225,1686.5610484742424,1234.5718494263697,1234.5718494263697,1644.2511259779164,1517.750071170576,1679.1866817499465,1441.862567612047,1393.9943359838123,1561.9241869919963,1234.5718494263697,363.7211709018244,1659.2174251037488,1178.4549471797166,1206.513398303043,1659.2174251037488,1291.1360646359838,1150.39649605639,1673.3068242582376,303.5809887253637,1238.4366334263518,1236.1885136462176,1667.4106478888943,1628.363862996061,1599.0828753069409,175.36531952079116,1237.470248457338,1668.0808524413649,1644.2511259779164,68.84143200551662,1591.7560663764143,1237.470248457338,1391.270898573028,308.3463412722992,336.7014134799189,1543.0459056900854,1178.4549471797166,1673.3068242582376,178.78094402431122,307.9647729940028,166.71476840857292,1621.3847891693522,1669.384557701969,108.6673127879525,21.082013105928027,17.169284911753024,2.4471070969610065e-10],\"yaxis\":\"y\",\"type\":\"bar\"}],                        {\"template\":{\"data\":{\"bar\":[{\"error_x\":{\"color\":\"#2a3f5f\"},\"error_y\":{\"color\":\"#2a3f5f\"},\"marker\":{\"line\":{\"color\":\"#E5ECF6\",\"width\":0.5},\"pattern\":{\"fillmode\":\"overlay\",\"size\":10,\"solidity\":0.2}},\"type\":\"bar\"}],\"barpolar\":[{\"marker\":{\"line\":{\"color\":\"#E5ECF6\",\"width\":0.5},\"pattern\":{\"fillmode\":\"overlay\",\"size\":10,\"solidity\":0.2}},\"type\":\"barpolar\"}],\"carpet\":[{\"aaxis\":{\"endlinecolor\":\"#2a3f5f\",\"gridcolor\":\"white\",\"linecolor\":\"white\",\"minorgridcolor\":\"white\",\"startlinecolor\":\"#2a3f5f\"},\"baxis\":{\"endlinecolor\":\"#2a3f5f\",\"gridcolor\":\"white\",\"linecolor\":\"white\",\"minorgridcolor\":\"white\",\"startlinecolor\":\"#2a3f5f\"},\"type\":\"carpet\"}],\"choropleth\":[{\"colorbar\":{\"outlinewidth\":0,\"ticks\":\"\"},\"type\":\"choropleth\"}],\"contour\":[{\"colorbar\":{\"outlinewidth\":0,\"ticks\":\"\"},\"colorscale\":[[0.0,\"#0d0887\"],[0.1111111111111111,\"#46039f\"],[0.2222222222222222,\"#7201a8\"],[0.3333333333333333,\"#9c179e\"],[0.4444444444444444,\"#bd3786\"],[0.5555555555555556,\"#d8576b\"],[0.6666666666666666,\"#ed7953\"],[0.7777777777777778,\"#fb9f3a\"],[0.8888888888888888,\"#fdca26\"],[1.0,\"#f0f921\"]],\"type\":\"contour\"}],\"contourcarpet\":[{\"colorbar\":{\"outlinewidth\":0,\"ticks\":\"\"},\"type\":\"contourcarpet\"}],\"heatmap\":[{\"colorbar\":{\"outlinewidth\":0,\"ticks\":\"\"},\"colorscale\":[[0.0,\"#0d0887\"],[0.1111111111111111,\"#46039f\"],[0.2222222222222222,\"#7201a8\"],[0.3333333333333333,\"#9c179e\"],[0.4444444444444444,\"#bd3786\"],[0.5555555555555556,\"#d8576b\"],[0.6666666666666666,\"#ed7953\"],[0.7777777777777778,\"#fb9f3a\"],[0.8888888888888888,\"#fdca26\"],[1.0,\"#f0f921\"]],\"type\":\"heatmap\"}],\"heatmapgl\":[{\"colorbar\":{\"outlinewidth\":0,\"ticks\":\"\"},\"colorscale\":[[0.0,\"#0d0887\"],[0.1111111111111111,\"#46039f\"],[0.2222222222222222,\"#7201a8\"],[0.3333333333333333,\"#9c179e\"],[0.4444444444444444,\"#bd3786\"],[0.5555555555555556,\"#d8576b\"],[0.6666666666666666,\"#ed7953\"],[0.7777777777777778,\"#fb9f3a\"],[0.8888888888888888,\"#fdca26\"],[1.0,\"#f0f921\"]],\"type\":\"heatmapgl\"}],\"histogram\":[{\"marker\":{\"pattern\":{\"fillmode\":\"overlay\",\"size\":10,\"solidity\":0.2}},\"type\":\"histogram\"}],\"histogram2d\":[{\"colorbar\":{\"outlinewidth\":0,\"ticks\":\"\"},\"colorscale\":[[0.0,\"#0d0887\"],[0.1111111111111111,\"#46039f\"],[0.2222222222222222,\"#7201a8\"],[0.3333333333333333,\"#9c179e\"],[0.4444444444444444,\"#bd3786\"],[0.5555555555555556,\"#d8576b\"],[0.6666666666666666,\"#ed7953\"],[0.7777777777777778,\"#fb9f3a\"],[0.8888888888888888,\"#fdca26\"],[1.0,\"#f0f921\"]],\"type\":\"histogram2d\"}],\"histogram2dcontour\":[{\"colorbar\":{\"outlinewidth\":0,\"ticks\":\"\"},\"colorscale\":[[0.0,\"#0d0887\"],[0.1111111111111111,\"#46039f\"],[0.2222222222222222,\"#7201a8\"],[0.3333333333333333,\"#9c179e\"],[0.4444444444444444,\"#bd3786\"],[0.5555555555555556,\"#d8576b\"],[0.6666666666666666,\"#ed7953\"],[0.7777777777777778,\"#fb9f3a\"],[0.8888888888888888,\"#fdca26\"],[1.0,\"#f0f921\"]],\"type\":\"histogram2dcontour\"}],\"mesh3d\":[{\"colorbar\":{\"outlinewidth\":0,\"ticks\":\"\"},\"type\":\"mesh3d\"}],\"parcoords\":[{\"line\":{\"colorbar\":{\"outlinewidth\":0,\"ticks\":\"\"}},\"type\":\"parcoords\"}],\"pie\":[{\"automargin\":true,\"type\":\"pie\"}],\"scatter\":[{\"marker\":{\"colorbar\":{\"outlinewidth\":0,\"ticks\":\"\"}},\"type\":\"scatter\"}],\"scatter3d\":[{\"line\":{\"colorbar\":{\"outlinewidth\":0,\"ticks\":\"\"}},\"marker\":{\"colorbar\":{\"outlinewidth\":0,\"ticks\":\"\"}},\"type\":\"scatter3d\"}],\"scattercarpet\":[{\"marker\":{\"colorbar\":{\"outlinewidth\":0,\"ticks\":\"\"}},\"type\":\"scattercarpet\"}],\"scattergeo\":[{\"marker\":{\"colorbar\":{\"outlinewidth\":0,\"ticks\":\"\"}},\"type\":\"scattergeo\"}],\"scattergl\":[{\"marker\":{\"colorbar\":{\"outlinewidth\":0,\"ticks\":\"\"}},\"type\":\"scattergl\"}],\"scattermapbox\":[{\"marker\":{\"colorbar\":{\"outlinewidth\":0,\"ticks\":\"\"}},\"type\":\"scattermapbox\"}],\"scatterpolar\":[{\"marker\":{\"colorbar\":{\"outlinewidth\":0,\"ticks\":\"\"}},\"type\":\"scatterpolar\"}],\"scatterpolargl\":[{\"marker\":{\"colorbar\":{\"outlinewidth\":0,\"ticks\":\"\"}},\"type\":\"scatterpolargl\"}],\"scatterternary\":[{\"marker\":{\"colorbar\":{\"outlinewidth\":0,\"ticks\":\"\"}},\"type\":\"scatterternary\"}],\"surface\":[{\"colorbar\":{\"outlinewidth\":0,\"ticks\":\"\"},\"colorscale\":[[0.0,\"#0d0887\"],[0.1111111111111111,\"#46039f\"],[0.2222222222222222,\"#7201a8\"],[0.3333333333333333,\"#9c179e\"],[0.4444444444444444,\"#bd3786\"],[0.5555555555555556,\"#d8576b\"],[0.6666666666666666,\"#ed7953\"],[0.7777777777777778,\"#fb9f3a\"],[0.8888888888888888,\"#fdca26\"],[1.0,\"#f0f921\"]],\"type\":\"surface\"}],\"table\":[{\"cells\":{\"fill\":{\"color\":\"#EBF0F8\"},\"line\":{\"color\":\"white\"}},\"header\":{\"fill\":{\"color\":\"#C8D4E3\"},\"line\":{\"color\":\"white\"}},\"type\":\"table\"}]},\"layout\":{\"annotationdefaults\":{\"arrowcolor\":\"#2a3f5f\",\"arrowhead\":0,\"arrowwidth\":1},\"autotypenumbers\":\"strict\",\"coloraxis\":{\"colorbar\":{\"outlinewidth\":0,\"ticks\":\"\"}},\"colorscale\":{\"diverging\":[[0,\"#8e0152\"],[0.1,\"#c51b7d\"],[0.2,\"#de77ae\"],[0.3,\"#f1b6da\"],[0.4,\"#fde0ef\"],[0.5,\"#f7f7f7\"],[0.6,\"#e6f5d0\"],[0.7,\"#b8e186\"],[0.8,\"#7fbc41\"],[0.9,\"#4d9221\"],[1,\"#276419\"]],\"sequential\":[[0.0,\"#0d0887\"],[0.1111111111111111,\"#46039f\"],[0.2222222222222222,\"#7201a8\"],[0.3333333333333333,\"#9c179e\"],[0.4444444444444444,\"#bd3786\"],[0.5555555555555556,\"#d8576b\"],[0.6666666666666666,\"#ed7953\"],[0.7777777777777778,\"#fb9f3a\"],[0.8888888888888888,\"#fdca26\"],[1.0,\"#f0f921\"]],\"sequentialminus\":[[0.0,\"#0d0887\"],[0.1111111111111111,\"#46039f\"],[0.2222222222222222,\"#7201a8\"],[0.3333333333333333,\"#9c179e\"],[0.4444444444444444,\"#bd3786\"],[0.5555555555555556,\"#d8576b\"],[0.6666666666666666,\"#ed7953\"],[0.7777777777777778,\"#fb9f3a\"],[0.8888888888888888,\"#fdca26\"],[1.0,\"#f0f921\"]]},\"colorway\":[\"#636efa\",\"#EF553B\",\"#00cc96\",\"#ab63fa\",\"#FFA15A\",\"#19d3f3\",\"#FF6692\",\"#B6E880\",\"#FF97FF\",\"#FECB52\"],\"font\":{\"color\":\"#2a3f5f\"},\"geo\":{\"bgcolor\":\"white\",\"lakecolor\":\"white\",\"landcolor\":\"#E5ECF6\",\"showlakes\":true,\"showland\":true,\"subunitcolor\":\"white\"},\"hoverlabel\":{\"align\":\"left\"},\"hovermode\":\"closest\",\"mapbox\":{\"style\":\"light\"},\"paper_bgcolor\":\"white\",\"plot_bgcolor\":\"#E5ECF6\",\"polar\":{\"angularaxis\":{\"gridcolor\":\"white\",\"linecolor\":\"white\",\"ticks\":\"\"},\"bgcolor\":\"#E5ECF6\",\"radialaxis\":{\"gridcolor\":\"white\",\"linecolor\":\"white\",\"ticks\":\"\"}},\"scene\":{\"xaxis\":{\"backgroundcolor\":\"#E5ECF6\",\"gridcolor\":\"white\",\"gridwidth\":2,\"linecolor\":\"white\",\"showbackground\":true,\"ticks\":\"\",\"zerolinecolor\":\"white\"},\"yaxis\":{\"backgroundcolor\":\"#E5ECF6\",\"gridcolor\":\"white\",\"gridwidth\":2,\"linecolor\":\"white\",\"showbackground\":true,\"ticks\":\"\",\"zerolinecolor\":\"white\"},\"zaxis\":{\"backgroundcolor\":\"#E5ECF6\",\"gridcolor\":\"white\",\"gridwidth\":2,\"linecolor\":\"white\",\"showbackground\":true,\"ticks\":\"\",\"zerolinecolor\":\"white\"}},\"shapedefaults\":{\"line\":{\"color\":\"#2a3f5f\"}},\"ternary\":{\"aaxis\":{\"gridcolor\":\"white\",\"linecolor\":\"white\",\"ticks\":\"\"},\"baxis\":{\"gridcolor\":\"white\",\"linecolor\":\"white\",\"ticks\":\"\"},\"bgcolor\":\"#E5ECF6\",\"caxis\":{\"gridcolor\":\"white\",\"linecolor\":\"white\",\"ticks\":\"\"}},\"title\":{\"x\":0.05},\"xaxis\":{\"automargin\":true,\"gridcolor\":\"white\",\"linecolor\":\"white\",\"ticks\":\"\",\"title\":{\"standoff\":15},\"zerolinecolor\":\"white\",\"zerolinewidth\":2},\"yaxis\":{\"automargin\":true,\"gridcolor\":\"white\",\"linecolor\":\"white\",\"ticks\":\"\",\"title\":{\"standoff\":15},\"zerolinecolor\":\"white\",\"zerolinewidth\":2}}},\"xaxis\":{\"anchor\":\"y\",\"domain\":[0.0,1.0],\"title\":{\"text\":\"x\"}},\"yaxis\":{\"anchor\":\"x\",\"domain\":[0.0,1.0],\"title\":{\"text\":\"y\"}},\"legend\":{\"tracegroupgap\":0},\"margin\":{\"t\":60},\"barmode\":\"relative\"},                        {\"responsive\": true}                    ).then(function(){\n",
              "                            \n",
              "var gd = document.getElementById('1b771e71-c307-4e9e-866e-6498e5c2deb6');\n",
              "var x = new MutationObserver(function (mutations, observer) {{\n",
              "        var display = window.getComputedStyle(gd).display;\n",
              "        if (!display || display === 'none') {{\n",
              "            console.log([gd, 'removed!']);\n",
              "            Plotly.purge(gd);\n",
              "            observer.disconnect();\n",
              "        }}\n",
              "}});\n",
              "\n",
              "// Listen for the removal of the full notebook cells\n",
              "var notebookContainer = gd.closest('#notebook-container');\n",
              "if (notebookContainer) {{\n",
              "    x.observe(notebookContainer, {childList: true});\n",
              "}}\n",
              "\n",
              "// Listen for the clearing of the current output cell\n",
              "var outputEl = gd.closest('.output');\n",
              "if (outputEl) {{\n",
              "    x.observe(outputEl, {childList: true});\n",
              "}}\n",
              "\n",
              "                        })                };                            </script>        </div>\n",
              "</body>\n",
              "</html>"
            ]
          },
          "metadata": {}
        }
      ]
    }
  ]
}